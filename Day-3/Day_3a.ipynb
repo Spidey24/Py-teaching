{
  "nbformat": 4,
  "nbformat_minor": 0,
  "metadata": {
    "colab": {
      "provenance": []
    },
    "kernelspec": {
      "name": "python3",
      "display_name": "Python 3"
    },
    "language_info": {
      "name": "python"
    }
  },
  "cells": [
    {
      "cell_type": "markdown",
      "source": [
        "### ***String Manipulation in Python***\n",
        "---\n",
        "* Strings in Python are stored as individual characters in contiguous locations with two-way index for each location.\n",
        "\n",
        "---"
      ],
      "metadata": {
        "id": "6Xfm6oE54GZK"
      }
    },
    {
      "cell_type": "code",
      "execution_count": null,
      "metadata": {
        "colab": {
          "base_uri": "https://localhost:8080/"
        },
        "id": "xAxSmMOD2i99",
        "outputId": "bf2196ac-ce63-4dba-9b41-8f2407bf6f2b"
      },
      "outputs": [
        {
          "output_type": "stream",
          "name": "stdout",
          "text": [
            "\n",
            "Hello \n",
            "   World!!\n",
            "\n",
            "============Len function=================\n",
            "11\n",
            "4\n"
          ]
        }
      ],
      "source": [
        "# A multiline string\n",
        "print('''\n",
        "Hello \n",
        "   World!!\n",
        "''')\n",
        "\n",
        "print('============Len function=================')\n",
        "#Determining length of a string \n",
        "a = 'Hello World'\n",
        "b = 'HiPy'\n",
        "print(len(a))\n",
        "print(len(b))\n",
        "\n",
        "#Remember that Blank Space between two words in our string is also counted as a space"
      ]
    },
    {
      "cell_type": "markdown",
      "source": [
        "#### **String Item Assignment & Traversing string**\n",
        "\n",
        "---\n",
        "* Strings are immutable so we can't assign items to a given string.\n",
        "* Traversing means iterating through the elements of a string, one character at a time.\n",
        "\n",
        "---"
      ],
      "metadata": {
        "id": "e7Jw-v4y55vn"
      }
    },
    {
      "cell_type": "code",
      "source": [
        "\"\"\"\n",
        "s = 'cython'\n",
        "s[0]='p'\n",
        "\"\"\"\n",
        "# Traversing a string \n",
        "\n",
        "code = 'Python'\n",
        "for i in code :\n",
        "  print(i,'--',end=' ')"
      ],
      "metadata": {
        "colab": {
          "base_uri": "https://localhost:8080/"
        },
        "id": "qZTCc51C6NcV",
        "outputId": "e2193b37-d415-4280-f07f-5b03aff20708"
      },
      "execution_count": null,
      "outputs": [
        {
          "output_type": "stream",
          "name": "stdout",
          "text": [
            "P -- y -- t -- h -- o -- n -- "
          ]
        }
      ]
    },
    {
      "cell_type": "markdown",
      "source": [
        "#### **String Operators & Slicing**\n",
        "\n",
        "---\n",
        "* String Operators are as follows :\n",
        "    * Concatenation op (+)\n",
        "    * Replication op (*) \n",
        "    * Membership Operator (in,not in)\n",
        "    * Comparison Operator (==,!=,..)\n",
        "---\n",
        "* String slicing as name suggests is slicing some part of string containing some contiguous characters from the string.\n",
        "\n",
        "---"
      ],
      "metadata": {
        "id": "-Bm6bPN28GSM"
      }
    },
    {
      "cell_type": "code",
      "source": [
        "print('\\n===========Concating a string==============\\n')\n",
        "# Concatining string \n",
        "a = 'ABC'\n",
        "b = 'DEF'\n",
        "print(a+b)\n",
        "print('\\n============Replicating a string==============\\n')\n",
        "# Replication of string \n",
        "print(4*a) # will replicate string at times of numeral value \n",
        "print('\\n===========Membership Operator===============\\n')\n",
        "# Membership Operations \n",
        "print('A' in a)\n",
        "print(b not in a)\n",
        "print('\\n============Comparing string=============\\n')\n",
        "#Comarping strings\n",
        "# Comparisions are based on the standard character-by-character comparison rules for ASCII or Unicode\n",
        "print('a' == 'a')\n",
        "print('A'!= 'a')\n",
        "print('ABC' == 'abc')\n",
        "print('\\n=============About ASCII=============\\n')\n",
        "# ASCII Character \n",
        "#ord function\n",
        "print(ord('A')) # Will return it's ASCII value\n",
        "print(ord('Z'))\n",
        "print('--------------------------')\n",
        "#chr function\n",
        "print(chr(65)) # will return corresponding character of ASCII value\n",
        "print(chr(98))"
      ],
      "metadata": {
        "colab": {
          "base_uri": "https://localhost:8080/"
        },
        "id": "suIeqQKI-4L4",
        "outputId": "020ef1e9-cfcc-4b30-d4e1-cb4a7b2fa754"
      },
      "execution_count": null,
      "outputs": [
        {
          "output_type": "stream",
          "name": "stdout",
          "text": [
            "\n",
            "===========Concating a string==============\n",
            "\n",
            "ABCDEF\n",
            "\n",
            "============Replicating a string==============\n",
            "\n",
            "ABCABCABCABC\n",
            "\n",
            "===========Membership Operator===============\n",
            "\n",
            "True\n",
            "True\n",
            "\n",
            "============Comparing string=============\n",
            "\n",
            "True\n",
            "True\n",
            "False\n",
            "\n",
            "=============About ASCII=============\n",
            "\n",
            "65\n",
            "90\n",
            "--------------------------\n",
            "A\n",
            "b\n"
          ]
        }
      ]
    },
    {
      "cell_type": "code",
      "source": [
        "#String Slicing\n",
        "print('=======String Slicing=============\\n') \n",
        "s = 'Python is fun'\n",
        "print(s[0:8]) # will go till end value - 1 i.e., 7-1=6\n",
        "print('\\n==========Slicing with -ve index===========\\n')\n",
        "# Negative Indexing\n",
        "w = 'amazing' \n",
        "print(w[-7:])\n",
        "print('\\n========Adding a step to slicing============\\n')\n",
        "# Adding a step to slicing \n",
        "print(s[1:12:2])\n",
        "# Reverse a string\n",
        "print('\\n========Reversing string==============\\n') \n",
        "name = 'Aditya'\n",
        "print('Reverse of Aditya is:',name[::-1])"
      ],
      "metadata": {
        "colab": {
          "base_uri": "https://localhost:8080/"
        },
        "id": "Ectwuq0kBuzq",
        "outputId": "fd3cdb41-0141-4308-8fd2-e385e6fdf34a"
      },
      "execution_count": null,
      "outputs": [
        {
          "output_type": "stream",
          "name": "stdout",
          "text": [
            "=======String Slicing=============\n",
            "\n",
            "Python i\n",
            "============Slicing with -ve index===========\n",
            "\n",
            "amazing\n",
            "==========Adding a step to slicing============\n",
            "\n",
            "yhni u\n",
            "==========Reversing string==============\n",
            "\n",
            "Reverse of Aditya is: aytidA\n"
          ]
        }
      ]
    },
    {
      "cell_type": "markdown",
      "source": [
        "#### **String Functions in Python**\n",
        "---\n",
        "* Python offers a lot built-in functions and methods for String Manipulation.\n",
        "* Syntax is : \n",
        "   *stringobject.methodname()*"
      ],
      "metadata": {
        "id": "IDCDmrCMDZ4q"
      }
    },
    {
      "cell_type": "code",
      "source": [
        "# Some of the String Functions are as follows :\n",
        "st = 'Hello Python Programming'\n",
        "a = st.upper() #try .lower()\n",
        "b = st.capitalize() #Capitals the first letter of string\n",
        "ts = 'hello'\n",
        "c = ts.isalpha() #Only returns true if there are only alphabets in string \n",
        "f = ' '\n",
        "d = f.isspace() # Only returns true if there is only space in string \n",
        "sub = 'Python'\n",
        "e = st.find(sub,6,14) #Finds the sub string in given string from start to stop , results -1 if it is not found\n",
        "print('=======upper==========\\n')\n",
        "print(a)\n",
        "print('\\n=======capitalize======\\n')\n",
        "print(b)\n",
        "print('\\n======isalpha==========\\n')\n",
        "print(c)\n",
        "print('\\n=======isspace==========\\n')\n",
        "print(d)\n",
        "print('\\n==========find =========\\n')\n",
        "print(e)\n"
      ],
      "metadata": {
        "colab": {
          "base_uri": "https://localhost:8080/"
        },
        "id": "8xSfZd48DyUF",
        "outputId": "ee756093-90a9-4729-f5d4-46df75cb222e"
      },
      "execution_count": null,
      "outputs": [
        {
          "output_type": "stream",
          "name": "stdout",
          "text": [
            "=======upper==========\n",
            "\n",
            "HELLO PYTHON PROGRAMMING\n",
            "\n",
            "=======capitalize======\n",
            "\n",
            "Hello python programming\n",
            "\n",
            "======isalpha==========\n",
            "\n",
            "True\n",
            "\n",
            "=======isspace==========\n",
            "\n",
            "True\n",
            "\n",
            "==========find =========\n",
            "\n",
            "6\n"
          ]
        }
      ]
    }
  ]
}