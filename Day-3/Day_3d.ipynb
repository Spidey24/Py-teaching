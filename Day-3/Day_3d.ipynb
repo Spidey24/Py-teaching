{
  "nbformat": 4,
  "nbformat_minor": 0,
  "metadata": {
    "colab": {
      "provenance": [],
      "collapsed_sections": [
        "mXAvl8Xdr7AZ"
      ]
    },
    "kernelspec": {
      "name": "python3",
      "display_name": "Python 3"
    },
    "language_info": {
      "name": "python"
    }
  },
  "cells": [
    {
      "cell_type": "markdown",
      "source": [
        "#### ***Dictionaries in Python***\n",
        "---\n",
        "* Python dictionaries are a collection of some *key-value* pairs.\n",
        "* Some points regarding dicitonaries :\n",
        "  * Dictionaries are mutable,ordered collections\n",
        "  * Keys are immutable while values are mutable & can be duplicate.\n",
        "  * Syntax :\n",
        "\n",
        "    dictionary-name = { key : value, key : value,... }\n",
        "\n",
        "  * currly brackets mark the beginning and end of dictionary\n",
        "  * each entry (key : value) consists of a pair separated by a colon- the key and corresponding value.\n",
        "  *the key-value pairs are separated by commas.\n",
        "  ---"
      ],
      "metadata": {
        "id": "d6AioeK0QJpB"
      }
    },
    {
      "cell_type": "code",
      "execution_count": null,
      "metadata": {
        "colab": {
          "base_uri": "https://localhost:8080/"
        },
        "id": "9xGZmIEYIW26",
        "outputId": "e8f950b1-d362-4035-94a2-7928ffbcd25c"
      },
      "outputs": [
        {
          "output_type": "stream",
          "name": "stdout",
          "text": [
            "Empty dictionary======================>\n",
            "<class 'dict'>\n",
            "\n",
            "Simple Dictionary======================>\n",
            "{1: 'Apple', 2: 'Banana', 3: 'Strawberry', 4: 'Orange', 5: 'Tangerine'}\n",
            "<class 'dict'>\n",
            "\n",
            "User Input============================>\n",
            "Enter total pairs in dictionary d2 :\n",
            "4\n",
            "Enter key: A\n",
            "Enter value: 10\n",
            "Enter key: B\n",
            "Enter value: 20\n",
            "Enter key: C\n",
            "Enter value: 30\n",
            "Enter key: D\n",
            "Enter value: 20\n",
            "{'A': '10', 'B': '20', 'C': '30', 'D': '20'}\n"
          ]
        }
      ],
      "source": [
        "#Creating empty dictionary\n",
        "print('Empty dictionary======================>')\n",
        "d = {}\n",
        "print(type(d))\n",
        "\n",
        "#Creating a dicitonary \n",
        "print('\\nSimple Dictionary======================>')\n",
        "d1 = {1:'Apple',2:'Banana',3:'Strawberry',4:'Orange',5:'Tangerine'}\n",
        "print(d1)\n",
        "print(type(d1))\n",
        "\n",
        "#User input dicitonary\n",
        "print('\\nUser Input============================>')\n",
        "n = int(input('Enter total pairs in dictionary d2 :\\n'))\n",
        "d2 = {}\n",
        "\n",
        "for i in range(n):\n",
        "    key = input(\"Enter key: \")\n",
        "    value = input(\"Enter value: \")\n",
        "\n",
        "    d2[key] = value\n",
        "\n",
        "print(d2)"
      ]
    },
    {
      "cell_type": "markdown",
      "source": [
        "#### ***Accessing Elements in Dictionary***\n",
        "---\n",
        "* In dictionary, elements are accessed through the keys defined in the key: value pairs.\n",
        "---"
      ],
      "metadata": {
        "id": "HXN-zsOfVIY4"
      }
    },
    {
      "cell_type": "code",
      "source": [
        "print(d2['A'])\n",
        "\n",
        "#print(d2[B])\n",
        "#Attempting to access a key that doesn't exist causes an error\n",
        "\n",
        "#Accessing keys or values simultaneously \n",
        "print('\\nKeys & Values======================>')\n",
        "print(d2.keys())\n",
        "print(d2.values())"
      ],
      "metadata": {
        "colab": {
          "base_uri": "https://localhost:8080/"
        },
        "id": "tfAPSMaIVby_",
        "outputId": "41d74ce9-55e4-4f82-c409-5b9db80a7eab"
      },
      "execution_count": null,
      "outputs": [
        {
          "output_type": "stream",
          "name": "stdout",
          "text": [
            "10\n",
            "\n",
            "Keys & Values======================>\n",
            "dict_keys(['A', 'B', 'C', 'D'])\n",
            "dict_values(['10', '20', '30', '20'])\n"
          ]
        }
      ]
    },
    {
      "cell_type": "markdown",
      "source": [
        "#### ***Dictionary operations***\n",
        "---\n",
        "* Traversing \n",
        "* Adding elements \n",
        "* Updating existing elements \n",
        "* Deleting elements \n",
        "* Checking existence of a key \n",
        "---"
      ],
      "metadata": {
        "id": "bFAj_hkPnkaB"
      }
    },
    {
      "cell_type": "code",
      "source": [
        "# Travering \n",
        "print('Traversal=======================>')\n",
        "dictionary1 = {1:'number','a':'string',8.1 : 'float', (2,3) : \"tuple\" }\n",
        "for key in dictionary1:\n",
        "  print(key,':',dictionary1[key])\n",
        "\n",
        "#Adding elements \n",
        "print('\\nAddition of elements===========>')\n",
        "emp = {'eid' : 'A101', 'ename' : 'John Doe' , 'designation' : 'SR dev' , }\n",
        "print(emp)\n",
        "emp['age'] = 28\n",
        "print(emp)\n",
        "\n",
        "#Updation \n",
        "print('\\nUpdation of existing elements============>')\n",
        "emp['eid'] = 'B101'\n",
        "print(emp)\n",
        "\n",
        "#Deletion\n",
        "print('\\nDeleting elements==================>')\n",
        "#Here we have 2 methods; One is del and other is pop\n",
        "# del method \n",
        "print('\\n-----------del method--------------')\n",
        "del emp['age']\n",
        "print(emp)\n",
        "\n",
        "# If key doesn't exist which we are going to delete then Python returns error\n",
        "# del emp['dept']\n",
        "\n",
        "# pop method \n",
        "print('\\n-----------pop method--------------')\n",
        "dictionary1.pop('a')\n",
        "print(dictionary1)\n",
        "\n",
        "# Pop allows user to specify what to display when the given key does not exist\n",
        "# dictionary1.pop(99,'No key found')\n",
        "\n",
        "#Existence of key\n",
        "print('\\nExistence of key=======================>')\n",
        "a = 1 in dictionary1\n",
        "print(a)\n",
        "b = 'salary' not in dictionary1\n",
        "print(b)"
      ],
      "metadata": {
        "colab": {
          "base_uri": "https://localhost:8080/"
        },
        "id": "iY6yPhfUnqsd",
        "outputId": "15c9efd1-4854-4dec-ac1c-8a08bb9a1d47"
      },
      "execution_count": null,
      "outputs": [
        {
          "output_type": "stream",
          "name": "stdout",
          "text": [
            "Traversal=======================>\n",
            "1 : number\n",
            "a : string\n",
            "8.1 : float\n",
            "(2, 3) : tuple\n",
            "\n",
            "Addition of elements===========>\n",
            "{'eid': 'A101', 'ename': 'John Doe', 'designation': 'SR dev'}\n",
            "{'eid': 'A101', 'ename': 'John Doe', 'designation': 'SR dev', 'age': 28}\n",
            "\n",
            "Updation of existing elements============>\n",
            "{'eid': 'B101', 'ename': 'John Doe', 'designation': 'SR dev', 'age': 28}\n",
            "\n",
            "Deleting elements==================>\n",
            "\n",
            "-----------del method--------------\n",
            "{'eid': 'B101', 'ename': 'John Doe', 'designation': 'SR dev'}\n",
            "\n",
            "-----------pop method--------------\n",
            "{1: 'number', 8.1: 'float', (2, 3): 'tuple'}\n",
            "\n",
            "Existence of key=======================>\n",
            "True\n",
            "True\n"
          ]
        }
      ]
    },
    {
      "cell_type": "markdown",
      "source": [
        "#### ***Dictionary Methods***\n",
        "---\n",
        "* len( ) \n",
        "* clear ( )\n",
        "* get ( )\n",
        "* items ( )\n",
        "* keys ( ) \n",
        "* values ( ) \n",
        "* update ( )\n",
        "---"
      ],
      "metadata": {
        "id": "mXAvl8Xdr7AZ"
      }
    },
    {
      "cell_type": "code",
      "source": [
        "# len () \n",
        "print('len method============>')\n",
        "print('Length of dictionary1 is :', len(dictionary1))\n",
        "\n",
        "#clear ()\n",
        "#clear method removes all the elements of a dictionary and returns an empty dictionary while del removes the complete dictionary as an object \n",
        "print('\\nclear method============>')\n",
        "dict1 = {12:'number','abc':'string',8.132 : 'float', (2,3,'hello') : \"tuple\" }\n",
        "print(dict1)\n",
        "dict1.clear()\n",
        "print(dict1)\n",
        "\n",
        "#get ()\n",
        "print('\\nget method=============>')\n",
        "emp_name = emp.get('ename')\n",
        "print(emp_name)\n",
        "#items ()\n",
        "print('\\nitems method==============>')\n",
        "mylist = [] \n",
        "for a in emp.items() :\n",
        "  mylist.append(a)\n",
        "  print(mylist)\n",
        "  \n",
        "#update ()\n",
        "print('\\nupdate method================>')\n",
        "emp1 = {'eid':101,'ename':'John','age':24}\n",
        "emp2 = {'fid':102,'fname':'Jim','age':29}\n",
        "emp1.update(emp2)\n",
        "print(emp1)\n"
      ],
      "metadata": {
        "colab": {
          "base_uri": "https://localhost:8080/"
        },
        "id": "RHDxlSOLsWo0",
        "outputId": "9583e929-cada-435e-cad0-bfe30a9aa409"
      },
      "execution_count": null,
      "outputs": [
        {
          "output_type": "stream",
          "name": "stdout",
          "text": [
            "len method============>\n",
            "Length of dictionary1 is : 0\n",
            "\n",
            "clear method============>\n",
            "{12: 'number', 'abc': 'string', 8.132: 'float', (2, 3, 'hello'): 'tuple'}\n",
            "{}\n",
            "\n",
            "get method=============>\n",
            "John Doe\n",
            "\n",
            "items method==============>\n",
            "[('eid', 'B101')]\n",
            "[('eid', 'B101'), ('ename', 'John Doe')]\n",
            "[('eid', 'B101'), ('ename', 'John Doe'), ('designation', 'SR dev')]\n",
            "\n",
            "update method================>\n",
            "{'eid': 101, 'ename': 'John', 'age': 29, 'fid': 102, 'fname': 'Jim'}\n"
          ]
        }
      ]
    },
    {
      "cell_type": "markdown",
      "source": [
        "### ***Sets in Python***\n",
        "---\n",
        "* A set is an unordered collection of unique elements, meaning that each element in a set can only appear once.\n",
        "* You can create a set in Python using curly braces { } or the set( ) function.\n",
        "---"
      ],
      "metadata": {
        "id": "ApalT-2LvETW"
      }
    },
    {
      "cell_type": "code",
      "source": [
        "#Creating empty set \n",
        "print('Empty set----------------------->')\n",
        "my_set = set()\n",
        "print(type(my_set))\n",
        "print()\n",
        "s = {}\n",
        "# print(type(s)) It's dictionary but not a set\n",
        "s = set()\n",
        "print(type(s))\n",
        "\n",
        "#Creating a set \n",
        "print('\\nSet-------------------------------->')\n",
        "s1 = {1,2,3.4,'242'}\n",
        "print(s1)\n",
        "print(type(s1))\n",
        "print()\n",
        "#You can't have duplicate items in set, set will automatically remove duplicate elements\n",
        "s2 = {1,2,2,2,3,3,1,4,5}\n",
        "print(s2)\n",
        "\n",
        "# You can't access elements of set as they are not indexed \n",
        "# print(s2[3]) TypeError: 'set' object is not subscriptable\n",
        "\n",
        "#Creating user input set\n",
        "print('\\nUser Input Set------------------------->')\n",
        "s3 = set(input('enter the elements of set'))\n",
        "print(s3) #Order of elements will be random but duplicate values will not be present \n",
        "print(type(s3))\n"
      ],
      "metadata": {
        "colab": {
          "base_uri": "https://localhost:8080/"
        },
        "id": "3jZu0cyvbhfs",
        "outputId": "da84387e-1d2d-4243-da1b-758e25500577"
      },
      "execution_count": null,
      "outputs": [
        {
          "output_type": "stream",
          "name": "stdout",
          "text": [
            "Empty set----------------------->\n",
            "<class 'set'>\n",
            "\n",
            "<class 'set'>\n",
            "\n",
            "Set-------------------------------->\n",
            "{1, 2, 3.4, '242'}\n",
            "<class 'set'>\n",
            "\n",
            "{1, 2, 3, 4, 5}\n",
            "\n",
            "User Input Set------------------------->\n",
            "enter the elements of set1222857\n",
            "{'7', '2', '8', '5', '1'}\n",
            "<class 'set'>\n"
          ]
        }
      ]
    },
    {
      "cell_type": "markdown",
      "source": [
        "#### **Set Operations**\n",
        "---\n",
        "* Accessing Items\n",
        "* Add Item\n",
        "* Remove Item"
      ],
      "metadata": {
        "id": "OprVrwSOdxaB"
      }
    },
    {
      "cell_type": "code",
      "source": [
        "#Accessing elements in set \n",
        "#Set's elements can't be referred using index or key.\n",
        "print('Accessing items----------------->')\n",
        "tset = {'apple',1,'windows',2}\n",
        "for x in tset:\n",
        "  print(x)\n",
        "print()\n",
        "#Checking if element is there in set or not\n",
        "print('winows' in tset)\n",
        "\n",
        "print('\\nAdding Item----------------------->')\n",
        "#We can't change items in set but we can add new items\n",
        "\n",
        "#There are two methods to do so; add() & update()\n",
        "print('\\n==========add()==============')\n",
        "bset = {'oreo','marie','bourboun','jimjam'}\n",
        "print(bset)\n",
        "bset.add('parle-g')\n",
        "print(bset)\n",
        "#add () won't allow other objects such as list,tuple,etc to be added to set \n",
        "#bset.add([1,2,3])  TypeError: unhashable type: 'list'\n",
        "\n",
        "print('\\n==========update()==============')\n",
        "#update will allow to add other objects to set\n",
        "bset.update([1,2,3])\n",
        "print(bset)\n",
        "\n",
        "#Removing items\n",
        "print('\\nRemoving Item----------------->')\n",
        "# To remove an item from set we can use remove() and discard()\n",
        "cset={'Ferrari','Audi','BMW','RR'}\n",
        "print('\\n==========remove()==============')\n",
        "#If item to remove does not exist, remove() will raise an error\n",
        "print(cset)\n",
        "cset.remove('RR')\n",
        "#cset.remove('Toyota')\n",
        "print(cset)\n",
        "print('\\n==========discard()==============')\n",
        "fset = {\"apple\", \"banana\", \"cherry\"}\n",
        "fset.discard(\"banana\")\n",
        "#If item to discard does not exist, discard() will not raise an error\n",
        "fset.discard('strawberry')\n",
        "print(fset)\n",
        "\n",
        "#Sets are unordered, so if we use pop() method then randomly item will be removed\n",
        "# cset.pop()\n",
        "#print(cset)\n",
        "\n",
        "# clear() method will clear a set while del keyword will delete set completely\n",
        "# cset.clear()\n",
        "# print(cset)\n",
        "print()\n",
        "# del cset\n",
        "# print(cset) Generates error"
      ],
      "metadata": {
        "colab": {
          "base_uri": "https://localhost:8080/"
        },
        "id": "i_ROJp_jgEBY",
        "outputId": "372600ff-8e76-44f5-c1ae-7566efa4f239"
      },
      "execution_count": null,
      "outputs": [
        {
          "output_type": "stream",
          "name": "stdout",
          "text": [
            "Accessing items----------------->\n",
            "windows\n",
            "1\n",
            "apple\n",
            "2\n",
            "\n",
            "False\n",
            "\n",
            "Adding Item----------------------->\n",
            "\n",
            "==========add()==============\n",
            "{'marie', 'bourboun', 'oreo', 'jimjam'}\n",
            "{'marie', 'bourboun', 'oreo', 'parle-g', 'jimjam'}\n",
            "\n",
            "==========update()==============\n",
            "{'marie', 1, 2, 3, 'bourboun', 'oreo', 'parle-g', 'jimjam'}\n",
            "\n",
            "Removing Item----------------->\n",
            "\n",
            "==========remove()==============\n",
            "{'Audi', 'RR', 'BMW', 'Ferrari'}\n",
            "{'Audi', 'BMW', 'Ferrari'}\n",
            "\n",
            "==========discard()==============\n",
            "{'cherry', 'apple'}\n",
            "\n"
          ]
        }
      ]
    },
    {
      "cell_type": "markdown",
      "source": [
        "#### **Set methods**\n",
        "---\n",
        "* Union \n",
        "* Intersection\n",
        "* Differenence \n",
        "* Symmetric Difference"
      ],
      "metadata": {
        "id": "8cb0N565l6vH"
      }
    },
    {
      "cell_type": "markdown",
      "source": [
        "**Union**\n",
        "\n",
        "---\n",
        "The union of two sets is a set containing all the unique elements from both sets. In Python, we can perform union operation using the union( ) or | operator."
      ],
      "metadata": {
        "id": "iINFw2exFYrr"
      }
    },
    {
      "cell_type": "code",
      "source": [
        "set1 = {1, 2, 3, 4, 5}\n",
        "set2 = set([4, 5, 6, 7, 8])\n",
        "\n",
        "union_set = set1.union(set2)\n",
        "print(union_set)\n",
        "\n",
        "print('----------------------------------')\n",
        "\n",
        "# using '|' operator\n",
        "union_set = set1 | set2\n",
        "print(union_set)\n",
        "\n"
      ],
      "metadata": {
        "colab": {
          "base_uri": "https://localhost:8080/"
        },
        "id": "Y4bbYzSzFho_",
        "outputId": "51931b27-122a-4f01-b2c6-da2dfc1690aa"
      },
      "execution_count": null,
      "outputs": [
        {
          "output_type": "stream",
          "name": "stdout",
          "text": [
            "{1, 2, 3, 4, 5, 6, 7, 8}\n",
            "----------------------------------\n",
            "{1, 2, 3, 4, 5, 6, 7, 8}\n"
          ]
        }
      ]
    },
    {
      "cell_type": "markdown",
      "source": [
        "**Intersection**\n",
        "\n",
        "---\n",
        "The intersection of two sets is a set containing only the elements that are present in both sets. In Python, we can perform intersection operation using the intersection( ) or & operator."
      ],
      "metadata": {
        "id": "IxYBMwRBGAEN"
      }
    },
    {
      "cell_type": "code",
      "source": [
        "intersection_set = set1.intersection(set2)\n",
        "print(intersection_set)\n",
        "\n",
        "print('-----------------------------------')\n",
        "# using '&' operator\n",
        "intersection_set = set1 & set2\n",
        "print(intersection_set)"
      ],
      "metadata": {
        "colab": {
          "base_uri": "https://localhost:8080/"
        },
        "id": "G4el_alPGYJq",
        "outputId": "90bf4150-5deb-454a-e414-e844e0912cb4"
      },
      "execution_count": null,
      "outputs": [
        {
          "output_type": "stream",
          "name": "stdout",
          "text": [
            "{4, 5}\n",
            "-----------------------------------\n",
            "{4, 5}\n"
          ]
        }
      ]
    },
    {
      "cell_type": "markdown",
      "source": [
        "**Difference**\n",
        "\n",
        "---\n",
        "The difference between two sets is a set containing only the elements that are present in one set but not the other. In Python, we can perform difference operation using the difference( ) or - operator."
      ],
      "metadata": {
        "id": "AfTajKXoGc0A"
      }
    },
    {
      "cell_type": "code",
      "source": [
        "diff_set = set1.difference(set2)\n",
        "print(diff_set)\n",
        "\n",
        "print('-----------------------------')\n",
        "\n",
        "# using '-' operator\n",
        "diff_set = set1 - set2\n",
        "print(diff_set)"
      ],
      "metadata": {
        "colab": {
          "base_uri": "https://localhost:8080/"
        },
        "id": "V_Gw4FMcGtBv",
        "outputId": "c8f219d1-f26c-4a1a-f683-a42c61eb85fd"
      },
      "execution_count": null,
      "outputs": [
        {
          "output_type": "stream",
          "name": "stdout",
          "text": [
            "{1, 2, 3}\n",
            "-----------------------------\n",
            "{1, 2, 3}\n"
          ]
        }
      ]
    },
    {
      "cell_type": "markdown",
      "source": [
        "**Symmetric Difference**\n",
        "\n",
        "---\n",
        "The symmetric difference between two sets is a set containing only the elements that are present in one set or the other, but not both. In Python, we can perform symmetric difference operation using the symmetric_difference( ) or ^ operator."
      ],
      "metadata": {
        "id": "cegrT8BRG14o"
      }
    },
    {
      "cell_type": "code",
      "source": [
        "sym_diff_set = set1.symmetric_difference(set2)\n",
        "print(sym_diff_set)\n",
        "\n",
        "print('-------------------------')\n",
        "\n",
        "# using '^' operator\n",
        "sym_diff_set = set1 ^ set2\n",
        "print(sym_diff_set)"
      ],
      "metadata": {
        "colab": {
          "base_uri": "https://localhost:8080/"
        },
        "id": "R7NVdqWpHDqR",
        "outputId": "62b055d1-04d1-4c50-ecb2-e969e90237be"
      },
      "execution_count": null,
      "outputs": [
        {
          "output_type": "stream",
          "name": "stdout",
          "text": [
            "{1, 2, 3, 6, 7, 8}\n",
            "-------------------------\n",
            "{1, 2, 3, 6, 7, 8}\n"
          ]
        }
      ]
    }
  ]
}