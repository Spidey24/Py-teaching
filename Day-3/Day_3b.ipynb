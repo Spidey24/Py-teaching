{
  "nbformat": 4,
  "nbformat_minor": 0,
  "metadata": {
    "colab": {
      "provenance": []
    },
    "kernelspec": {
      "name": "python3",
      "display_name": "Python 3"
    },
    "language_info": {
      "name": "python"
    }
  },
  "cells": [
    {
      "cell_type": "markdown",
      "source": [
        "### **List in Python**\n",
        "---\n",
        "* It is a standard data type of Python that can store a sequence of values belonging to any type.\n",
        "* It is depicted through [ ] and is mutable.\n",
        "---"
      ],
      "metadata": {
        "id": "KepEEezwFpYh"
      }
    },
    {
      "cell_type": "code",
      "execution_count": null,
      "metadata": {
        "colab": {
          "base_uri": "https://localhost:8080/"
        },
        "id": "6GGiJ-GEFlWF",
        "outputId": "c32b24aa-e1f4-4010-800d-c5e2aa938611"
      },
      "outputs": [
        {
          "output_type": "stream",
          "name": "stdout",
          "text": [
            "\n",
            "======Empty list==============\n",
            "\n",
            "<class 'list'>\n",
            "\n",
            "=======single data type list=======\n",
            "\n",
            "[1, 2, 3, 4] <class 'list'>\n",
            "\n",
            "=========Mixed data type list==========\n",
            "\n",
            "[1, '2', 3.4] <class 'list'>\n",
            "\n",
            "========Mutating list items==========\n",
            "\n",
            "['a', 2, 3, 4] <class 'list'>\n",
            "\n",
            "======Custom input list========\n",
            "\n",
            "Enter elements for list :\n",
            "123\n",
            "['1', '2', '3']\n"
          ]
        }
      ],
      "source": [
        "# Creating a simple list in Python \n",
        "print('\\n======Empty list==============\\n')\n",
        "a = [] # an empty list \n",
        "print(type(a))\n",
        "print('\\n=======single data type list=======\\n')\n",
        "b = [1,2,3,4] # A list of monotic data type\n",
        "print(b,type(b))\n",
        "print('\\n=========Mixed data type list==========\\n')\n",
        "c = [1,'2',3.4] # A list of mixed data type\n",
        "print(c,type(c))\n",
        "print('\\n========Mutating list items==========\\n')\n",
        "# We can also mutate items in list because list are mutable \n",
        "b[0]=\"a\"\n",
        "print(b,type(b))\n",
        "print('\\n======Custom input list========\\n')\n",
        "a = list(input('Enter elements for list :\\n'))\n",
        "print(a)\n"
      ]
    },
    {
      "cell_type": "markdown",
      "source": [
        "#### **List Operations**\n",
        "---\n"
      ],
      "metadata": {
        "id": "LRawWHhNG9tB"
      }
    },
    {
      "cell_type": "code",
      "source": [
        "# Traversing a List \n",
        "print('\\n============Traversal===========\\n')\n",
        "l = ['A','l','f','r','e','d']\n",
        "for a in l:\n",
        "  print(a,end='\\t')\n",
        "print('\\n==========Joining list===========\\n')\n",
        "#Joining lists \n",
        "l1 = [1,2,3]\n",
        "l2 = [4,5,6]\n",
        "print(l1+l2)\n",
        "print('\\n==========Replicating=============\\n')\n",
        "#Replicating Lists\n",
        "l3 = l1 * 3 \n",
        "print(l3)\n",
        "print('\\n========Slicing list============\\n')\n",
        "#Slicing a list \n",
        "# Similar to String Slicing\n",
        "l4 = [10,12,14,16,20,22,24,28,30,32,36,38,40] \n",
        "s = l4[0:3]\n",
        "t = l4[-7:-1] #Negative slicing\n",
        "u = l4[0:10:2] #Step slicing\n",
        "v = l4[0:2]=['ten','twelve','fourteen'] # We can use string slicing to modify specific elements of list\n",
        "print(s,end='\\n')\n",
        "print(t,end='\\n')\n",
        "print(u,end='\\n')\n",
        "print(v,end='\\n')\n",
        "print(l4)\n",
        "print('===============================')\n"
      ],
      "metadata": {
        "colab": {
          "base_uri": "https://localhost:8080/"
        },
        "id": "MtVt1OhQLNM8",
        "outputId": "45265b03-f502-4267-8ff6-e80133825149"
      },
      "execution_count": null,
      "outputs": [
        {
          "output_type": "stream",
          "name": "stdout",
          "text": [
            "\n",
            "============Traversal===========\n",
            "\n",
            "A\tl\tf\tr\te\td\t\n",
            "==========Joining list===========\n",
            "\n",
            "[1, 2, 3, 4, 5, 6]\n",
            "\n",
            "==========Replicating=============\n",
            "\n",
            "[1, 2, 3, 1, 2, 3, 1, 2, 3]\n",
            "\n",
            "========Slicing list============\n",
            "\n",
            "[10, 12, 14]\n",
            "[24, 28, 30, 32, 36, 38]\n",
            "[10, 14, 20, 24, 30]\n",
            "['ten', 'twelve', 'fourteen']\n",
            "['ten', 'twelve', 'fourteen', 14, 16, 20, 22, 24, 28, 30, 32, 36, 38, 40]\n",
            "===============================\n"
          ]
        }
      ]
    },
    {
      "cell_type": "markdown",
      "source": [
        "#### **List Manipulation & List Functions**\n",
        "---\n",
        "***Point to Remember :***\n",
        "* **Assignment Operator(=) on list does not make a copy,only makes a shallow copy.**"
      ],
      "metadata": {
        "id": "pvAEl4soShWi"
      }
    },
    {
      "cell_type": "code",
      "source": [
        "# Manipulating list items \n",
        "#Adding an element to list using append method\n",
        "print('\\n======Adding element=====\\n')\n",
        "l = [1,2,3,4,5,6,7]\n",
        "print(l)\n",
        "l.append(3)\n",
        "print(l)\n",
        "print('\\n======Updating specific value=====\\n')\n",
        "#Updating value in list at specific index value \n",
        "l[3]=30\n",
        "print(l)\n",
        "print('\\n=========Using -ve index=========\\n')\n",
        "l[-1] = 8 # Using negative index \n",
        "print(l)\n",
        "print('\\n=======Deleting element from list========\\n')\n",
        "#Deleting elemnt from list \n",
        "del l[3]\n",
        "print(l)\n",
        "del l[-5:-3]\n",
        "print(l)\n",
        "print('\\n======True copy of list========\\n')\n",
        "# Making a true copy of a list\n",
        "a = ['apple','banana','mango','jackfruit']\n",
        "b = list(a)\n",
        "print(a,type(a))\n",
        "print(b,type(b))\n",
        "# Now a & b are two separate lsits (deep copy)."
      ],
      "metadata": {
        "colab": {
          "base_uri": "https://localhost:8080/"
        },
        "id": "so_-B5NFTM-B",
        "outputId": "8345ffba-c42f-4473-f9bc-89a9109caed0"
      },
      "execution_count": null,
      "outputs": [
        {
          "output_type": "stream",
          "name": "stdout",
          "text": [
            "\n",
            "======Adding element=====\n",
            "\n",
            "[1, 2, 3, 4, 5, 6, 7]\n",
            "[1, 2, 3, 4, 5, 6, 7, 3]\n",
            "\n",
            "======Updating specific value=====\n",
            "\n",
            "[1, 2, 3, 30, 5, 6, 7, 3]\n",
            "\n",
            "=========Using -ve index=========\n",
            "\n",
            "[1, 2, 3, 30, 5, 6, 7, 8]\n",
            "\n",
            "=======Deleting element from list========\n",
            "\n",
            "[1, 2, 3, 5, 6, 7, 8]\n",
            "[1, 2, 6, 7, 8]\n",
            "\n",
            "======True copy of list========\n",
            "\n",
            "['apple', 'banana', 'mango', 'jackfruit'] <class 'list'>\n",
            "['apple', 'banana', 'mango', 'jackfruit'] <class 'list'>\n"
          ]
        }
      ]
    },
    {
      "cell_type": "code",
      "source": [
        "#List Functions\n",
        "List1=[11,13,18,13,23,88,99,200]\n",
        "# Finding Index of an element\n",
        "print('=============Index Method==================\\n')\n",
        "print(List1.index(18))\n",
        "print('\\n=============Append Method==================\\n')\n",
        "# Using append method to add an element at end of list\n",
        "print(List1)\n",
        "List1.append(290)\n",
        "print(List1) #Only modifies the original list\n",
        "print('\\n=============Extending List==================\\n')\n",
        "#Extending a list \n",
        "x = [1,2,34]\n",
        "y = ['a','b','cd']\n",
        "print(x)\n",
        "print(y)\n",
        "print('===============================')\n",
        "x.extend(y)\n",
        "print(x)\n",
        "print(y) #y remains unchanged\n",
        "print('\\n==============Insert Method=================\\n')\n",
        "#Insert method : It takes two arguements pos,value; in which pos is for at which position and value is the value which will be inserted at pos\n",
        "y.insert(3,20)\n",
        "print(y)\n",
        "print('\\n===============Pop Method================\\n')\n",
        "#Pop method : It takes an optional arguement that is position/index\n",
        "print(x.pop())  # Will remove the last element of list \n",
        "print(x.pop(-3)) # Now it will remove element from the specific element\n",
        "print('\\n==============Remove Method=================\\n')\n",
        "#Remove method : Removes the first occurence of value from list \n",
        "List1.remove(13)\n",
        "print(List1) \n",
        "print('\\n==============Clear Method=================\\n')\n",
        "#Clear method : Only clears elements form list doesn't deletes the list \n",
        "y.clear()\n",
        "print(y)\n",
        "print('\\n==============Count Method=================\\n')\n",
        "# Count method : counts the occurences of an element in list \n",
        "l = [1,2,3,3,3,4,4,5,7]\n",
        "print(l.count(3))\n",
        "print(l.count(6)) #Returns 0 becuase there is no element equivalent to 6 \n",
        "print('\\n==============Reverse Method=================\\n')\n",
        "#Reverse method : reverses the occurence of elements in list doesn't creates a new list \n",
        "print(l)\n",
        "l.reverse()\n",
        "print(l)\n",
        "print('\\n==============Sort Method (Increasing)=================\\n')\n",
        "# Sort method : Sorts elements of a list by default in increasing order \n",
        "j = [99,77,98,8,44,0,50]\n",
        "k = ['z','b','x','y','q']\n",
        "j.sort()\n",
        "print(j)\n",
        "k.sort()\n",
        "print(k)\n",
        "print('\\n==============Sort Method (Decreasing)=================\\n')\n",
        "# If we want in descending order simply add reverse = True \n",
        "j.sort(reverse = True)\n",
        "k.sort(reverse = True)\n",
        "print(j)\n",
        "print(k)\n",
        "\n"
      ],
      "metadata": {
        "colab": {
          "base_uri": "https://localhost:8080/"
        },
        "id": "ttHVUM6VWmcr",
        "outputId": "2bb22d52-deb3-4e66-a491-9769d9032b3e"
      },
      "execution_count": null,
      "outputs": [
        {
          "output_type": "stream",
          "name": "stdout",
          "text": [
            "=============Index Method==================\n",
            "\n",
            "2\n",
            "\n",
            "=============Append Method==================\n",
            "\n",
            "[11, 13, 18, 13, 23, 88, 99, 200]\n",
            "[11, 13, 18, 13, 23, 88, 99, 200, 290]\n",
            "\n",
            "=============Extending List==================\n",
            "\n",
            "[1, 2, 34]\n",
            "['a', 'b', 'cd']\n",
            "===============================\n",
            "[1, 2, 34, 'a', 'b', 'cd']\n",
            "['a', 'b', 'cd']\n",
            "\n",
            "==============Insert Method=================\n",
            "\n",
            "['a', 'b', 'cd', 20]\n",
            "\n",
            "===============Pop Method================\n",
            "\n",
            "cd\n",
            "34\n",
            "\n",
            "==============Remove Method=================\n",
            "\n",
            "[11, 18, 13, 23, 88, 99, 200, 290]\n",
            "\n",
            "==============Clear Method=================\n",
            "\n",
            "[]\n",
            "\n",
            "==============Count Method=================\n",
            "\n",
            "3\n",
            "0\n",
            "\n",
            "==============Reverse Method=================\n",
            "\n",
            "[1, 2, 3, 3, 3, 4, 4, 5, 7]\n",
            "[7, 5, 4, 4, 3, 3, 3, 2, 1]\n",
            "\n",
            "==============Sort Method (Increasing)=================\n",
            "\n",
            "[0, 8, 44, 50, 77, 98, 99]\n",
            "['b', 'q', 'x', 'y', 'z']\n",
            "\n",
            "==============Sort Method (Decreasing)=================\n",
            "\n",
            "[99, 98, 77, 50, 44, 8, 0]\n",
            "['z', 'y', 'x', 'q', 'b']\n"
          ]
        }
      ]
    }
  ]
}