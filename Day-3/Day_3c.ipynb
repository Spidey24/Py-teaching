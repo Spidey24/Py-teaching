{
  "nbformat": 4,
  "nbformat_minor": 0,
  "metadata": {
    "colab": {
      "provenance": []
    },
    "kernelspec": {
      "name": "python3",
      "display_name": "Python 3"
    },
    "language_info": {
      "name": "python"
    }
  },
  "cells": [
    {
      "cell_type": "markdown",
      "source": [
        "#### ***Tuples in Python***\n",
        "---\n",
        "* Tuples are depicted through round brackets ( ).\n",
        "* These are immutable sequences.\n",
        "---"
      ],
      "metadata": {
        "id": "OeUnqLmr3-Fy"
      }
    },
    {
      "cell_type": "code",
      "execution_count": null,
      "metadata": {
        "colab": {
          "base_uri": "https://localhost:8080/"
        },
        "id": "Hi44CofU3tbn",
        "outputId": "e2dc5cad-bf77-4ce4-bd0f-e9e5eb5bed3e"
      },
      "outputs": [
        {
          "output_type": "stream",
          "name": "stdout",
          "text": [
            "Empty Tuple-----------------\n",
            "<class 'tuple'>\n",
            "<class 'tuple'>\n",
            "\n",
            "Single element Tuple-------------\n",
            "<class 'tuple'>\n",
            "<class 'int'>\n",
            "\n",
            "Tuple-----------------\n",
            "(1, '2', 3.0)\n",
            "<class 'tuple'>\n",
            "\n",
            "User INPUT---------------\n",
            "Enter the tuple elements for x :\n",
            "(2,\"Hello\",3)\n",
            "Enter the tuple elements for y : \n",
            "(2,\"Hello\",3)\n",
            "(2, 'Hello', 3)\n",
            "('(', '2', ',', '\"', 'H', 'e', 'l', 'l', 'o', '\"', ',', '3', ')')\n",
            "<class 'tuple'>\n",
            "<class 'tuple'>\n"
          ]
        }
      ],
      "source": [
        "#No element tuple\n",
        "print('Empty Tuple-----------------')\n",
        "a = () \n",
        "b = tuple()\n",
        "print(type(a))\n",
        "print(type(b))\n",
        "\n",
        "#Single element in Tuple\n",
        "print('\\nSingle element Tuple-------------')\n",
        "t =(1,)\n",
        "t1 = (1) #Remember here a single element is not treated as tuple but as individual entity such as in our case 1 is treated as int\n",
        "print(type(t))\n",
        "print(type(t1))\n",
        "\n",
        "#Creating a tuple with n elements \n",
        "print('\\nTuple-----------------')\n",
        "t2 = (1,'2',3.0)\n",
        "print(t2)\n",
        "print(type(t2))\n",
        "\n",
        "#Creating tuple from user input \n",
        "print('\\nUser INPUT---------------')\n",
        "x = eval(input(\"Enter the tuple elements for x :\\n\")) # eval() function parse the expression argument and evaluate it\n",
        "y = tuple(input(\"Enter the tuple elements for y : \\n\")) #Tuple method parse each value as a separate element for tuple\n",
        "print(x)\n",
        "print(y)\n",
        "print(type(x))\n",
        "print(type(y))"
      ]
    },
    {
      "cell_type": "markdown",
      "source": [
        "#### ***Tuple Operations***\n",
        "---\n",
        "* Traversal \n",
        "* Joining tuples\n",
        "* Replication \n",
        "* Slicing \n",
        "* Unpacking Tuples\n",
        "--- "
      ],
      "metadata": {
        "id": "cK-ATb5c6Wx3"
      }
    },
    {
      "cell_type": "code",
      "source": [
        "#Traversing a tuple \n",
        "print('Traversing tuple------------------')\n",
        "t = ('C','o','d','i','n','g')\n",
        "for a in t:\n",
        "  print(a)\n",
        "\n",
        "#Joining tuple\n",
        "print('\\nJoining tuple-------------------')\n",
        "tp1=(1,2,3)\n",
        "tp2=(4,5,6)\n",
        "tp3=tp1+tp2\n",
        "print(tp3)\n",
        "\n",
        "#==============Remember====================\n",
        "# tp1 + (7)\n",
        "# Python will return an error : TypeErrror : can only concatenate tuple (not 'int') to tuple\n",
        "\n",
        "#Repeating tuple\n",
        "print('\\nReplicating tuple---------------------')\n",
        "tpl = tp1 * 3\n",
        "print(tpl) \n",
        "\n",
        "#Slicing Tuple \n",
        "print('\\nSlicing tuple--------------------------')\n",
        "tp4=(10,20,22,20,33,45,56,64,76,88,91,93,94,100)\n",
        "seq = tp4[3:7]\n",
        "print(seq)\n",
        "seq1=tp4[0:11:2]\n",
        "print(seq1)\n",
        "\n",
        "#Unpacking tuples \n",
        "# Creating a tuple from a set of values is called packing and it's reverse i.e, creating individual values from a tuple's elements is called unpacking.\n",
        "print('\\nUnpacking tuple---------------------')\n",
        "t = (1,2,3,'a','b','c')\n",
        "a,b,c,d,e,f = t\n",
        "print(a,'==',b,'==',c,'==',d)\n"
      ],
      "metadata": {
        "colab": {
          "base_uri": "https://localhost:8080/"
        },
        "id": "aRJsAuI--Fi1",
        "outputId": "f3cc9ce5-7e7b-4683-9e2a-ca3ada2d781b"
      },
      "execution_count": null,
      "outputs": [
        {
          "output_type": "stream",
          "name": "stdout",
          "text": [
            "Traversing tuple------------------\n",
            "C\n",
            "o\n",
            "d\n",
            "i\n",
            "n\n",
            "g\n",
            "\n",
            "Joining tuple-------------------\n",
            "(1, 2, 3, 4, 5, 6)\n",
            "\n",
            "Replicating tuple---------------------\n",
            "(1, 2, 3, 1, 2, 3, 1, 2, 3)\n",
            "\n",
            "Slicing tuple--------------------------\n",
            "(20, 33, 45, 56)\n",
            "(10, 22, 33, 56, 76, 91)\n",
            "\n",
            "Unpacking tuple---------------------\n",
            "1 == 2 == 3 == a\n"
          ]
        }
      ]
    },
    {
      "cell_type": "markdown",
      "source": [
        "#### ***Tuple Methods***\n",
        "---\n",
        "* len( )\n",
        "* max ( )\n",
        "* min ( )\n",
        "* index ( )\n",
        "* count ( )\n",
        "* tuple ( )\n",
        "---"
      ],
      "metadata": {
        "id": "LAk8eFDjGOsg"
      }
    },
    {
      "cell_type": "code",
      "source": [
        "#Tuple methods \n",
        "# len() \n",
        "print('\\nlen()----------------')\n",
        "t = (1,23,435,6234,15415,1512361)\n",
        "print(len(t))\n",
        "\n",
        "#max() & min() \n",
        "print('\\nmax()------------------')\n",
        "t1 = (1,2,3,4,5,6,9)\n",
        "t2 = ('a','b','c','d','e','z')\n",
        "print(max(t1))\n",
        "print(max(t2))\n",
        "print('\\nmin()-------------------')\n",
        "print(min(t1))\n",
        "print(min(t2))\n",
        "\n",
        "#index()\n",
        "print('\\nindex()------------------')\n",
        "t3 = [2,2.4,5,'hello']\n",
        "print(t3.index(2))\n",
        "print(t3.index('hello'))\n",
        "# If the given item does not exist in tuple, it raises ValueError\n",
        "\n",
        "#count()\n",
        "print('\\ncount()-----------------------')\n",
        "t5 = (1,2,3,24,2,2,2,2,2,2,32,24,24,24,242)\n",
        "print(t5.count(2))\n",
        "print(t5.count(24))\n",
        "\n",
        "#tuple()\n",
        "print('\\ntuple()------------------------')\n",
        "a = tuple('abc')\n",
        "print(a)\n",
        "b = tuple([1,2,3,'hello',3.13])\n",
        "print(b)\n",
        "print(type(b),'\\n',type(a))"
      ],
      "metadata": {
        "colab": {
          "base_uri": "https://localhost:8080/"
        },
        "id": "oN0pXSlWGgCC",
        "outputId": "c63aac2d-c4d2-4684-9dac-62717e4a89ce"
      },
      "execution_count": null,
      "outputs": [
        {
          "output_type": "stream",
          "name": "stdout",
          "text": [
            "\n",
            "len()----------------\n",
            "6\n",
            "\n",
            "max()------------------\n",
            "9\n",
            "z\n",
            "\n",
            "min()-------------------\n",
            "1\n",
            "a\n",
            "\n",
            "index()------------------\n",
            "0\n",
            "3\n",
            "\n",
            "count()-----------------------\n",
            "7\n",
            "4\n",
            "\n",
            "tuple()------------------------\n",
            "('a', 'b', 'c')\n",
            "(1, 2, 3, 'hello', 3.13)\n",
            "<class 'tuple'> \n",
            " <class 'tuple'>\n"
          ]
        }
      ]
    }
  ]
}