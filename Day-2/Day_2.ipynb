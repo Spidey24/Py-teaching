{
  "nbformat": 4,
  "nbformat_minor": 0,
  "metadata": {
    "colab": {
      "provenance": []
    },
    "kernelspec": {
      "name": "python3",
      "display_name": "Python 3"
    },
    "language_info": {
      "name": "python"
    }
  },
  "cells": [
    {
      "cell_type": "markdown",
      "source": [
        "### ***Looping Statements in Python:***\n",
        "\n",
        "*   For loop\n",
        "*   While loop\n",
        "\n",
        "\n"
      ],
      "metadata": {
        "id": "XOddwQYpY98e"
      }
    },
    {
      "cell_type": "markdown",
      "source": [
        "***For loop in Python***\n",
        "\n",
        "---\n",
        "\n",
        "\n",
        "With the *for* loop we can execute a set of statements, once for each item in a list, tuple, set etc.In Python there are different types of for loops or we can say that Python has different variations of for loop as follows:\n",
        "\n",
        "\n",
        "*   for in\n",
        "*   for in range\n",
        "*   for in range(start,stop,step)\n",
        "\n",
        "\n"
      ],
      "metadata": {
        "id": "lSo4AWk6ZprR"
      }
    },
    {
      "cell_type": "code",
      "execution_count": null,
      "metadata": {
        "colab": {
          "base_uri": "https://localhost:8080/"
        },
        "id": "K3yqr3wGWOei",
        "outputId": "0eb2803c-c26a-4f13-b095-e387381c333a"
      },
      "outputs": [
        {
          "output_type": "stream",
          "name": "stdout",
          "text": [
            "S\n",
            "t\n",
            "r\n",
            "i\n",
            "n\n",
            "g\n",
            "--------------------------------\n",
            "0\n",
            "2\n",
            "4\n",
            "6\n",
            "8\n",
            "--------------------------------\n"
          ]
        }
      ],
      "source": [
        "# for in \n",
        "# we can check if a data is present in data set\n",
        "for a in 'String':\n",
        "  print(a)\n",
        "print('--------------------------------')\n",
        "for a in [0,2,4,6,8]:\n",
        "  print(a)\n",
        "print('--------------------------------')"
      ]
    },
    {
      "cell_type": "code",
      "source": [
        "# for in range \n",
        "# The range() function returns a sequence of numbers, starting from 0 by default, and increments by 1 (by default), and stops before a specified number.\n",
        "# The range function goes till value-1\n",
        "for a in range(6): # It will go from 0 to 5 (6-1)\n",
        "  print(a)\n"
      ],
      "metadata": {
        "colab": {
          "base_uri": "https://localhost:8080/"
        },
        "id": "DMDQred2cnMC",
        "outputId": "a582df32-28db-4319-95ee-636e3295bae9"
      },
      "execution_count": null,
      "outputs": [
        {
          "output_type": "stream",
          "name": "stdout",
          "text": [
            "0\n",
            "1\n",
            "2\n",
            "3\n",
            "4\n",
            "5\n"
          ]
        }
      ]
    },
    {
      "cell_type": "code",
      "source": [
        "# for in range (start,stop,step)\n",
        "# start starts from given value ; stop ends from value-1 ; step skips the given value from start till stop\n",
        "\n",
        "for a in range(1,7,2):\n",
        "  print(a)"
      ],
      "metadata": {
        "colab": {
          "base_uri": "https://localhost:8080/"
        },
        "id": "BIhk6lFygnYv",
        "outputId": "dd55ff18-3093-49ad-8f97-3e0544f8c32d"
      },
      "execution_count": null,
      "outputs": [
        {
          "output_type": "stream",
          "name": "stdout",
          "text": [
            "1\n",
            "3\n",
            "5\n"
          ]
        }
      ]
    },
    {
      "cell_type": "markdown",
      "source": [
        "***While loop in Python***\n",
        "\n",
        "\n",
        "---\n",
        "\n",
        "With the *while* loop we can execute a set of statements as long as a condition is true.Remember to create a exiting condition or we may get stuck inside infinite loop."
      ],
      "metadata": {
        "id": "ArVDj81Qlb9s"
      }
    },
    {
      "cell_type": "code",
      "source": [
        "# while loop\n",
        "i = 0\n",
        "while i < 6: #Terminating condition is 'i' is less than 6 \n",
        "  print(i)\n",
        "  i += 1\n",
        "# In Python except 0 and False rest all values are true "
      ],
      "metadata": {
        "colab": {
          "base_uri": "https://localhost:8080/"
        },
        "id": "DcUXWSF5l5i2",
        "outputId": "5afaf2e2-dfe5-4084-81f3-104f7a2f230f"
      },
      "execution_count": null,
      "outputs": [
        {
          "output_type": "stream",
          "name": "stdout",
          "text": [
            "0\n",
            "1\n",
            "2\n",
            "3\n",
            "4\n",
            "5\n"
          ]
        }
      ]
    },
    {
      "cell_type": "markdown",
      "source": [
        "### ***Jump Statements***\n",
        "\n",
        "---\n",
        "\n",
        "Jump statements allow you to exit a loop, start the next iteration of a loop, or explicitly transfer program control to a specified location in your program.There are 3 jump statements in Python : \n",
        "\n",
        "*   break\n",
        "*   continue\n",
        "*   pass\n"
      ],
      "metadata": {
        "id": "2_QNb4I_nAIc"
      }
    },
    {
      "cell_type": "code",
      "source": [
        "# break statement \n",
        "a = ('a','b','c','d') # tuple\n",
        "for i in a:\n",
        "  if i == 'b':\n",
        "    break \n",
        "  else:\n",
        "    print(i)"
      ],
      "metadata": {
        "colab": {
          "base_uri": "https://localhost:8080/"
        },
        "id": "3jcv5d1Hndu7",
        "outputId": "8e598e92-79fa-4b74-d14d-311941e574f9"
      },
      "execution_count": null,
      "outputs": [
        {
          "output_type": "stream",
          "name": "stdout",
          "text": [
            "a\n"
          ]
        }
      ]
    },
    {
      "cell_type": "code",
      "source": [
        "#continue statement\n",
        "b = [1,2,3,4,5,6]\n",
        "for j in b:\n",
        "  if j == 4:\n",
        "    continue\n",
        "  else : \n",
        "    print(j)"
      ],
      "metadata": {
        "colab": {
          "base_uri": "https://localhost:8080/"
        },
        "id": "aG7dlEgGoNO6",
        "outputId": "393149a4-2a28-409c-99c6-c89e8117351b"
      },
      "execution_count": null,
      "outputs": [
        {
          "output_type": "stream",
          "name": "stdout",
          "text": [
            "1\n",
            "2\n",
            "3\n",
            "5\n",
            "6\n"
          ]
        }
      ]
    },
    {
      "cell_type": "code",
      "source": [
        "#pass statement \n",
        "a = 'Sample'\n",
        "#a = 'Nimble'\n",
        "if 'a' in a:\n",
        "  pass\n",
        "else:\n",
        "  print('a is not present')"
      ],
      "metadata": {
        "colab": {
          "base_uri": "https://localhost:8080/"
        },
        "id": "QVrtTQzYoNTZ",
        "outputId": "14fea859-92e4-427b-baa8-3f8c2f623f9c"
      },
      "execution_count": null,
      "outputs": [
        {
          "output_type": "stream",
          "name": "stdout",
          "text": [
            "a is not present\n"
          ]
        }
      ]
    },
    {
      "cell_type": "markdown",
      "source": [
        "#### ***Functions in Python***\n",
        "---\n",
        "A function is a block of code which only runs when it is called.\n",
        "You can pass data, known as parameters, into a function.\n",
        "A function can return data as a result.\n",
        "\n",
        "---\n",
        "##### **Point to remember**\n",
        "---\n",
        "The return statement does not print out the value it returns when the function is called. It however causes the function to exit or terminate immediately, even if it is not the last statement of the function. Functions that return values are sometimes called fruitful functions.\n",
        "\n"
      ],
      "metadata": {
        "id": "sJmVyXHHpmh7"
      }
    },
    {
      "cell_type": "code",
      "source": [
        "#creating a simple function \n",
        "print('---------Simple function-----------')\n",
        "def my_func(): # a function name can't be similar to keyword\n",
        "  print(\"Hello\")\n",
        "my_func() # Don't forget to call your function\n",
        "print('-----------------------------------\\n')\n",
        "#returning a value from function\n",
        "print('---------Returning Value-----------')\n",
        "def add():\n",
        "  a = 10\n",
        "  b = 29 \n",
        "  return print(a+b) \n",
        "add()\n",
        "print('------------------------------------\\n')\n",
        "#function with arguements \n",
        "print('---------Function with arguements-----------')\n",
        "def func(a,b):\n",
        "  print(a,\"\\t\", b)\n",
        "func('A',20)\n",
        "print('---------------------------------------------\\n')\n",
        "#function with default value for parameter \n",
        "print('----------Function with default parameter value----------')\n",
        "def def_argfun(a=10,b=2):\n",
        "  print('I bought',b,'cherries for rupees',a)\n",
        "def_argfun(20,100) # default values will be overriden with new values\n",
        "def_argfun() # we can also call function without giving any values as it will take default values\n",
        "print('----------------------------------------------------------\\n')"
      ],
      "metadata": {
        "colab": {
          "base_uri": "https://localhost:8080/"
        },
        "id": "KNE7eLeyp9o9",
        "outputId": "ebb82ed2-980f-4864-ab87-980d58db90af"
      },
      "execution_count": null,
      "outputs": [
        {
          "output_type": "stream",
          "name": "stdout",
          "text": [
            "---------Simple function-----------\n",
            "Hello\n",
            "-----------------------------------\n",
            "\n",
            "---------Returning Value-----------\n",
            "39\n",
            "------------------------------------\n",
            "\n",
            "---------Function with arguements-----------\n",
            "A \t 20\n",
            "---------------------------------------------\n",
            "\n",
            "----------Function with default parameter value----------\n",
            "I bought 100 cherries for rupees 20\n",
            "I bought 2 cherries for rupees 10\n",
            "----------------------------------------------------------\n",
            "\n"
          ]
        }
      ]
    },
    {
      "cell_type": "code",
      "source": [
        "# *args\n",
        "def add(*args):\n",
        "    print(args, type(args))\n",
        "\n",
        "add(2, 3)\n",
        "print('===========================')\n",
        "\n",
        "def add(*numbers):\n",
        "    total = 0\n",
        "    for num in numbers:\n",
        "        total += num\n",
        "    return total\n",
        "    \n",
        "\n",
        "print(add(2, 3))\n",
        "print(add(3,2,6))\n",
        "print(add(1,2,3,4,5))\n",
        "print('===========================')\n",
        "\n",
        "# **kwargs \n",
        "\n",
        "def total_fruits(**kwargs):\n",
        "    print(kwargs, type(kwargs))\n",
        "\n",
        "\n",
        "total_fruits(banana=5, mango=7, apple=8)\n",
        "print('===========================')\n",
        "def total_fruits(**fruits):\n",
        "    total = 0\n",
        "    for amount in fruits.values():\n",
        "        total += amount\n",
        "    return total\n",
        "\n",
        "\n",
        "print(total_fruits(banana=5, mango=7, apple=8))\n",
        "print(total_fruits(banana=5, mango=7, apple=8, oranges=10))\n",
        "print(total_fruits(banana=5, mango=7))\n",
        "print('===========================')"
      ],
      "metadata": {
        "colab": {
          "base_uri": "https://localhost:8080/"
        },
        "id": "eFg-74A8Ip2g",
        "outputId": "d891a19f-e94f-46e6-a92d-08d86b1eabcb"
      },
      "execution_count": null,
      "outputs": [
        {
          "output_type": "stream",
          "name": "stdout",
          "text": [
            "(2, 3) <class 'tuple'>\n",
            "===========================\n",
            "5\n",
            "11\n",
            "15\n",
            "===========================\n",
            "{'banana': 5, 'mango': 7, 'apple': 8} <class 'dict'>\n",
            "===========================\n",
            "20\n",
            "30\n",
            "12\n",
            "===========================\n"
          ]
        }
      ]
    },
    {
      "cell_type": "markdown",
      "source": [
        "#### ***Variable Scoping in Python***\n",
        "----\n",
        "The basic rules for global keyword in Python are:\n",
        "\n",
        "* When we create a variable inside a function, it is local by default.\n",
        "* When we define a variable outside of a function, it is global by default. You don't have to use the global keyword.\n",
        "* We use the global keyword to read and write a global variable inside a function.\n",
        "* Use of the global keyword outside a function has no effect.\n",
        "---"
      ],
      "metadata": {
        "id": "RIdH30bGKwA4"
      }
    },
    {
      "cell_type": "code",
      "source": [
        "# Use global keyword to make any entity globally accesscible anywhere\n",
        "x = 300\n",
        "\n",
        "def myfunc():\n",
        "  x = 200\n",
        "\n",
        "myfunc()\n",
        "print(x)\n",
        "print('\\n====================\\n')\n",
        "y = 300\n",
        "\n",
        "def myfunc():\n",
        "  global y\n",
        "  y = 200\n",
        "\n",
        "myfunc()\n",
        "print(y)"
      ],
      "metadata": {
        "colab": {
          "base_uri": "https://localhost:8080/"
        },
        "id": "L8rNvskPK7cA",
        "outputId": "7f0fa400-e6ef-4d81-ca6f-dd3d59823e35"
      },
      "execution_count": null,
      "outputs": [
        {
          "output_type": "stream",
          "name": "stdout",
          "text": [
            "300\n",
            "\n",
            "====================\n",
            "\n",
            "200\n"
          ]
        }
      ]
    },
    {
      "cell_type": "markdown",
      "source": [
        "#### ***Exception Handling in Python***\n",
        "---\n",
        "* Exceptions are raised when the program is syntactically correct, but the code resulted in an error. This error does not stop the execution of the program, however, it changes the normal flow of the program.\n",
        "* Exception is the base class for all the exceptions in Python.\n",
        "\n"
      ],
      "metadata": {
        "id": "nu7qO-mjL3In"
      }
    },
    {
      "cell_type": "code",
      "source": [
        "try:\n",
        "  pass\n",
        "    # code that may cause exception\n",
        "except:\n",
        "  pass\n",
        "    # code to run when exception occurs\n",
        "\n",
        "print('\\n===========try,except============')\n",
        "try:\n",
        "    numerator = 10\n",
        "    denominator = 0\n",
        "\n",
        "    result = numerator/denominator\n",
        "\n",
        "    print(result)\n",
        "except:\n",
        "    print(\"Error: Can't divide by 0.\")\n",
        "\n",
        "print('\\n===========Catching specific exception============')\n",
        "try:\n",
        "    \n",
        "    even_numbers = [2,4,6,8]\n",
        "    print(even_numbers[5])\n",
        "\n",
        "except ZeroDivisionError:\n",
        "    print(\"Denominator cannot be 0.\")\n",
        "    \n",
        "except IndexError:\n",
        "    print(\"Index Out of Bound.\")\n",
        "\n",
        "print('\\n=================try,except,else========================')\n",
        "# program to print the reciprocal of even numbers\n",
        "\n",
        "try:\n",
        "    num = int(input(\"Enter a number: \"))\n",
        "    if num % 2 == 0 and num != 0:\n",
        "      print('Even number')\n",
        "except:\n",
        "    print(\"Not an even number!\")\n",
        "else:\n",
        "    if num == 0 :\n",
        "      print('0 is neither even nor odd')\n",
        "\n",
        "print('\\n=====================try,except,finally======================')\n",
        "try:\n",
        "    numerator = 10\n",
        "    denominator = 0\n",
        "\n",
        "    result = numerator/denominator\n",
        "\n",
        "    print(result)\n",
        "except:\n",
        "    print(\"Error: Denominator cannot be 0.\")\n",
        "    \n",
        "finally:\n",
        "    print(\"I will always be executed\")\n"
      ],
      "metadata": {
        "colab": {
          "base_uri": "https://localhost:8080/"
        },
        "id": "5mkGXHWWL-wM",
        "outputId": "4c716a30-aed5-4744-9af1-e750022902c4"
      },
      "execution_count": null,
      "outputs": [
        {
          "output_type": "stream",
          "name": "stdout",
          "text": [
            "\n",
            "===========try,except============\n",
            "Error: Can't divide by 0.\n",
            "\n",
            "===========Catching specific exception============\n",
            "Index Out of Bound.\n",
            "\n",
            "=================try,except,else========================\n",
            "Enter a number: 0\n",
            "0 is neither even nor odd\n",
            "\n",
            "=====================try,except,finally======================\n",
            "Error: Denominator cannot be 0.\n",
            "I will always be executed\n"
          ]
        }
      ]
    },
    {
      "cell_type": "markdown",
      "source": [
        "**Custom Exception**\n",
        "\n",
        "---\n",
        "* In Python, we can define custom exceptions by creating a new class that is derived from the built-in Exception class."
      ],
      "metadata": {
        "id": "W-gdd_7sNzY3"
      }
    },
    {
      "cell_type": "code",
      "source": [
        "# define Python user-defined exceptions\n",
        "class InvalidAgeException(Exception):\n",
        "     pass\n",
        "  \n",
        "val_age = 18\n",
        "\n",
        "try:\n",
        "    input_age = int(input(\"Enter your age: \"))\n",
        "    if input_age < val_age :\n",
        "        raise InvalidAgeException\n",
        "    else:\n",
        "        print(\"Eligible to Vote\")\n",
        "        \n",
        "except InvalidAgeException:\n",
        "    print(\"Exception occurred: Invalid Age\")"
      ],
      "metadata": {
        "colab": {
          "base_uri": "https://localhost:8080/"
        },
        "id": "6pooOIeEN4IZ",
        "outputId": "bcee1d99-afc8-47f1-f5d1-7c5dd4e989e9"
      },
      "execution_count": null,
      "outputs": [
        {
          "output_type": "stream",
          "name": "stdout",
          "text": [
            "Enter your age: 14\n",
            "Exception occurred: Invalid Age\n"
          ]
        }
      ]
    }
  ]
}