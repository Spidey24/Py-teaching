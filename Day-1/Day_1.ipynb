{
  "nbformat": 4,
  "nbformat_minor": 0,
  "metadata": {
    "colab": {
      "provenance": []
    },
    "kernelspec": {
      "name": "python3",
      "display_name": "Python 3"
    },
    "language_info": {
      "name": "python"
    }
  },
  "cells": [
    {
      "cell_type": "markdown",
      "source": [
        "# ***Tokens in Python***\n",
        "\n",
        "---\n",
        "\n",
        "\n",
        "\n",
        "\n",
        "\n",
        "\n",
        "\n",
        "\n",
        "The smallest individual unit in a program is known as Token or a lexical unit.\n",
        "Python has following tokens : \n",
        "\n",
        "\n",
        "*   Keywords (Predefined words which perform some specific function)\n",
        "*   Identifiers (Names given to different parts of the program viz. objects,classes,variables,..)\n",
        "*   Literals(Data items that have a fixed/constant value like string literals,numeric literals,..)\n",
        "*   Operators(Tokens that trigger some computation action when applied to variables like +,-,<,>,..)\n",
        "*   Punctuators ( ) , ' , \" , { } , @ , \\ , : , . , ` , = \n",
        "\n"
      ],
      "metadata": {
        "id": "2W1Fj6DB5YuB"
      }
    },
    {
      "cell_type": "markdown",
      "source": [
        "## ***Keywords in Python***"
      ],
      "metadata": {
        "id": "Sez3SJ6M8Xi7"
      }
    },
    {
      "cell_type": "code",
      "execution_count": null,
      "metadata": {
        "colab": {
          "base_uri": "https://localhost:8080/"
        },
        "id": "KRQbyjEg5X4R",
        "outputId": "31934168-1f53-4888-c21c-005a10698ecb"
      },
      "outputs": [
        {
          "output_type": "stream",
          "name": "stdout",
          "text": [
            "The list of keywords are : \n",
            "\n",
            "['False', 'None', 'True', 'and', 'as', 'assert', 'async', 'await', 'break', 'class', 'continue', 'def', 'del', 'elif', 'else', 'except', 'finally', 'for', 'from', 'global', 'if', 'import', 'in', 'is', 'lambda', 'nonlocal', 'not', 'or', 'pass', 'raise', 'return', 'try', 'while', 'with', 'yield']\n"
          ]
        }
      ],
      "source": [
        "import keyword \n",
        "print('The list of keywords are : \\n')\n",
        "print(keyword.kwlist)\n"
      ]
    },
    {
      "cell_type": "markdown",
      "source": [
        "## ***Variables in Python***\n"
      ],
      "metadata": {
        "id": "C4r__P1h88mS"
      }
    },
    {
      "cell_type": "code",
      "source": [
        "a = 10\n",
        "A = 'a' # a & A are two different variables because Python is case sensitive\n",
        "b = c = 2 # multiple assignment \n",
        "print(b,c)\n",
        "b,c = 29,7.08 # Python dynamically assign value of b,c\n",
        "print(b,c)\n",
        "d = [1,'f']\n",
        "e = {'a':1,'b':2}\n",
        "f = {1,22,22,3}\n",
        "g = ('a','b')\n",
        "i = True\n",
        "print(a)\n",
        "print(A)\n",
        "print('------------------------------------')\n",
        "print('Different Data types in Python')\n",
        "print('------------------------------------')\n",
        "print(type(a))\n",
        "print(type(A))\n",
        "print(type(d))\n",
        "print(type(e))\n",
        "print(type(f))\n",
        "print(type(g))\n",
        "print(type(i))\n",
        " "
      ],
      "metadata": {
        "colab": {
          "base_uri": "https://localhost:8080/"
        },
        "id": "5KQC37ad9I2e",
        "outputId": "a26484fe-55cd-45de-e961-7c8a08154fdc"
      },
      "execution_count": null,
      "outputs": [
        {
          "output_type": "stream",
          "name": "stdout",
          "text": [
            "2 2\n",
            "29 7.08\n",
            "10\n",
            "a\n",
            "------------------------------------\n",
            "Different Data types in Python\n",
            "------------------------------------\n",
            "<class 'int'>\n",
            "<class 'str'>\n",
            "<class 'list'>\n",
            "<class 'dict'>\n",
            "<class 'set'>\n",
            "<class 'tuple'>\n",
            "<class 'bool'>\n"
          ]
        }
      ]
    },
    {
      "cell_type": "markdown",
      "source": [
        "## ***Simple Input & Output***"
      ],
      "metadata": {
        "id": "sJge4LqeAPfG"
      }
    },
    {
      "cell_type": "code",
      "source": [
        "# To take input we can use input() function \n",
        "b = input('Enter some text:')\n",
        "print(b)\n",
        "# By default whatever we enter Python will implicitly take input as str \n",
        "print(type(b))\n",
        "# But if we want int or float input, we need to use them accordingly \n",
        "x = int(input('Enter some int value:'))\n",
        "y = float(input('Enter some float value:'))\n",
        "print(x,type(x))\n",
        "print(y,type(y))\n",
        "# We can also format output \n",
        "print('My','name','is',sep='###') #sep argument of print() prints with sep character\n",
        "#Using end arguemtnt\n",
        "print('My name is ABC',end='///')\n",
        "print('I\\'m 10 years old')"
      ],
      "metadata": {
        "colab": {
          "base_uri": "https://localhost:8080/"
        },
        "id": "ZKOmIxb5BLG4",
        "outputId": "351fa5f0-2805-49ca-dbd4-4e1dab5e20d5"
      },
      "execution_count": null,
      "outputs": [
        {
          "output_type": "stream",
          "name": "stdout",
          "text": [
            "Enter some text:A\n",
            "A\n",
            "<class 'str'>\n",
            "Enter some int value:3\n",
            "Enter some float value:4\n",
            "3 <class 'int'>\n",
            "4.0 <class 'float'>\n",
            "My###name###is\n",
            "My name is ABC///I'm 10 years old\n"
          ]
        }
      ]
    },
    {
      "cell_type": "markdown",
      "source": [
        "## ***Operators in Python***\n",
        "\n",
        "\n",
        "*   Arithmetic Operator\n",
        "*   Realation Operator\n",
        "*   Boolean Operator\n",
        "\n"
      ],
      "metadata": {
        "id": "A57cfCjOFFqg"
      }
    },
    {
      "cell_type": "code",
      "source": [
        "#Arithmetic Operator\n",
        "a = 10\n",
        "b = 20\n",
        "print('-------------------------------------')\n",
        "print(a+b)\n",
        "print(a-b)\n",
        "print(a*b)\n",
        "print(a/b)\n",
        "print(a//b)\n",
        "print(a%b)\n",
        "print('-------------------------------------')\n",
        "# Note that we can write smaller expressions also \n",
        "a +=1 # It is same as a = a + 1\n",
        "print(a)\n",
        "a -=1\n",
        "print(a)"
      ],
      "metadata": {
        "colab": {
          "base_uri": "https://localhost:8080/"
        },
        "id": "ldVBAAw7FrvL",
        "outputId": "3d9a1602-5ae7-4566-a84d-ebf129e497f2"
      },
      "execution_count": null,
      "outputs": [
        {
          "output_type": "stream",
          "name": "stdout",
          "text": [
            "-------------------------------------\n",
            "30\n",
            "-10\n",
            "200\n",
            "0.5\n",
            "0\n",
            "10\n",
            "-------------------------------------\n",
            "11\n",
            "10\n"
          ]
        }
      ]
    },
    {
      "cell_type": "code",
      "source": [
        "#Relational Operator\n",
        "# Remember that only single '=' will assign value while double '==' will compare them \n",
        "a = 30\n",
        "b = 30\n",
        "print('------------------------------------------------')\n",
        "print(a==b)\n",
        "print(a!=b)\n",
        "print('------------------------------------------------')\n",
        "x = 2.80\n",
        "y = 3.0\n",
        "print('------------------------------------------------')\n",
        "print(a>=b)\n",
        "print(x<=y)\n",
        "print(x>y)\n",
        "print(x<y)\n",
        "print('------------------------------------------------')"
      ],
      "metadata": {
        "colab": {
          "base_uri": "https://localhost:8080/"
        },
        "id": "dwJWII47GYot",
        "outputId": "1558f489-48b3-462d-83c2-28f1d683dead"
      },
      "execution_count": null,
      "outputs": [
        {
          "output_type": "stream",
          "name": "stdout",
          "text": [
            "------------------------------------------------\n",
            "True\n",
            "False\n",
            "------------------------------------------------\n",
            "------------------------------------------------\n",
            "True\n",
            "True\n",
            "False\n",
            "True\n",
            "------------------------------------------------\n"
          ]
        }
      ]
    },
    {
      "cell_type": "code",
      "source": [
        "#Boolean Operator\n",
        "a = 10 \n",
        "b = 20\n",
        "c = False \n",
        "print('------------------------------------------------')\n",
        "print(a > b and b == 20)\n",
        "print(a > b or b == 20)\n",
        "print(not c) \n",
        "print('------------------------------------------------')"
      ],
      "metadata": {
        "colab": {
          "base_uri": "https://localhost:8080/"
        },
        "id": "xINLAAmKHN7o",
        "outputId": "9a3b2a6f-54af-4485-d506-1f9f4fed1773"
      },
      "execution_count": null,
      "outputs": [
        {
          "output_type": "stream",
          "name": "stdout",
          "text": [
            "------------------------------------------------\n",
            "False\n",
            "True\n",
            "True\n",
            "------------------------------------------------\n"
          ]
        }
      ]
    },
    {
      "cell_type": "markdown",
      "source": [
        "## ***Conditional Statements in Python***"
      ],
      "metadata": {
        "id": "1Oi-ZO2VHsI-"
      }
    },
    {
      "cell_type": "code",
      "source": [
        "# if condition\n",
        "a = int(input('Enter a number :\\n')) \n",
        "if a == 10 :  # Remember identation or you may get Identation error\n",
        "  print('a is Ten')\n",
        "print('------------------------------------------------')\n",
        "# if - else condition\n",
        "b = float(input('Enter a float value:\\n'))\n",
        "if b >3.0 :\n",
        "  print(a)\n",
        "else :\n",
        "  print(b)\n",
        "print('------------------------------------------------')\n",
        "# if-elif-else condition \n",
        "if a == 10 and b > 3.0 : \n",
        "  print('A')\n",
        "elif a < 10 and b < 3.0 :\n",
        "  print('B')\n",
        "else :\n",
        "  print('C')"
      ],
      "metadata": {
        "colab": {
          "base_uri": "https://localhost:8080/"
        },
        "id": "7skQ4kvFH5bl",
        "outputId": "bb5bb4c4-f595-4852-f97f-02fcaafe919c"
      },
      "execution_count": null,
      "outputs": [
        {
          "output_type": "stream",
          "name": "stdout",
          "text": [
            "Enter a number :\n",
            "22\n",
            "------------------------------------------------\n",
            "Enter a float value:\n",
            "3\n",
            "3.0\n",
            "------------------------------------------------\n",
            "C\n"
          ]
        }
      ]
    }
  ]
}