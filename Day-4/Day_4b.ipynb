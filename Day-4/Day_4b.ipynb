{
  "nbformat": 4,
  "nbformat_minor": 0,
  "metadata": {
    "colab": {
      "provenance": []
    },
    "kernelspec": {
      "name": "python3",
      "display_name": "Python 3"
    },
    "language_info": {
      "name": "python"
    }
  },
  "cells": [
    {
      "cell_type": "markdown",
      "source": [
        "## **Method Overloading & Method Overriding in Python**\n",
        "\n",
        "---\n",
        "* Method Overloading is the ability to define methods with the same name but different parameters.\n",
        "* This allows us to create more flexible and reusable code. \n",
        "* In Python, we don't have true method overloading like in other programming languages, but we can still achieve a similar effect by using default arguments.\n",
        "---\n",
        "* Method Overriding is the ability to define a method in a derived class that has the same name as a method in the base class. \n",
        "* This allows us to change the behavior of the method in the derived class without modifying the base class.\n",
        "---"
      ],
      "metadata": {
        "id": "n7JcUgZUgMRs"
      }
    },
    {
      "cell_type": "code",
      "execution_count": null,
      "metadata": {
        "colab": {
          "base_uri": "https://localhost:8080/"
        },
        "id": "Jv3CpIigfphX",
        "outputId": "3889984b-4fc3-47b4-9a3a-81cca5d7824d"
      },
      "outputs": [
        {
          "output_type": "stream",
          "name": "stdout",
          "text": [
            "5\n",
            "9\n"
          ]
        }
      ],
      "source": [
        "# Method Overloading\n",
        "class MyClass:\n",
        "    def add(self, a, b, c=0):\n",
        "        return a + b + c\n",
        "\n",
        "obj = MyClass()\n",
        "print(obj.add(2, 3))       \n",
        "print(obj.add(2, 3, 4))     \n"
      ]
    },
    {
      "cell_type": "code",
      "source": [
        "class Animal:\n",
        "    def make_sound(self):\n",
        "        print(\"The animal makes a sound\")\n",
        "\n",
        "class Dog(Animal):\n",
        "    def make_sound(self):\n",
        "        print(\"I am dog and I want to say : Woof!\")\n",
        "\n",
        "class Cat(Animal):\n",
        "    def make_sound(self):\n",
        "        print(\"I am cat and I want to say : Meow!\")\n",
        "\n",
        "dog1 = Dog()\n",
        "cat1 = Cat()\n",
        "\n",
        "dog1.make_sound()  \n",
        "cat1.make_sound()"
      ],
      "metadata": {
        "colab": {
          "base_uri": "https://localhost:8080/"
        },
        "id": "m6gUgfdchomw",
        "outputId": "b82c212a-95a0-4f8e-b189-8ffa8f284bd3"
      },
      "execution_count": null,
      "outputs": [
        {
          "output_type": "stream",
          "name": "stdout",
          "text": [
            "I am dog and I want to say : Woof!\n",
            "I am cat and I want to say : Meow!\n"
          ]
        }
      ]
    },
    {
      "cell_type": "markdown",
      "source": [
        "## **Polymorphism in Python**\n",
        "---\n",
        "* Polymorphism is one of the key features of object-oriented programming (OOP) in Python. * It allows a single interface or method to be used with objects of different types. \n",
        "* In other words, it provides a way to use a single name or method to represent different types of objects."
      ],
      "metadata": {
        "id": "30hLtn2Dic9M"
      }
    },
    {
      "cell_type": "markdown",
      "source": [
        "**Polymorphism in functions**\n",
        "\n",
        "---"
      ],
      "metadata": {
        "id": "84szME_iioYY"
      }
    },
    {
      "cell_type": "code",
      "source": [
        "def add(a, b):\n",
        "    return a + b\n",
        "\n",
        "print(add(2, 3))    \n",
        "print(add(\"Hello\", \"World\"))    \n",
        "\n",
        "# In the above example, the function add can be used to add two numbers as well as concatenate two strings.\n"
      ],
      "metadata": {
        "colab": {
          "base_uri": "https://localhost:8080/"
        },
        "id": "ZwA68jtFivRN",
        "outputId": "2615e805-62d5-438c-a258-9791b9c03632"
      },
      "execution_count": null,
      "outputs": [
        {
          "output_type": "stream",
          "name": "stdout",
          "text": [
            "5\n",
            "HelloWorld\n"
          ]
        }
      ]
    },
    {
      "cell_type": "markdown",
      "source": [
        "**Polymorphism in Classes**\n",
        "\n",
        "---"
      ],
      "metadata": {
        "id": "XLNsEqtAjAm-"
      }
    },
    {
      "cell_type": "code",
      "source": [
        "class Animal:\n",
        "    def __init__(self, name):\n",
        "        self.name = name\n",
        "    \n",
        "    def speak(self):\n",
        "        raise NotImplementedError(\"Subclass must implement abstract method\")\n",
        "\n",
        "class Dog(Animal):\n",
        "    def speak(self):\n",
        "        return \"Woof!\"\n",
        "\n",
        "class Cat(Animal):\n",
        "    def speak(self):\n",
        "        return \"Meow!\"\n",
        "\n",
        "animals = [Dog(\"Beckam\"), Cat(\"Mitty\")]\n",
        "\n",
        "for animal in animals:\n",
        "    print(animal.name + \": \" + animal.speak())\n"
      ],
      "metadata": {
        "colab": {
          "base_uri": "https://localhost:8080/"
        },
        "id": "VEwH_7iZjEnd",
        "outputId": "fa8e0de2-f44a-4d5a-e242-60e0781f084b"
      },
      "execution_count": null,
      "outputs": [
        {
          "output_type": "stream",
          "name": "stdout",
          "text": [
            "Beckam: Woof!\n",
            "Mitty: Meow!\n"
          ]
        }
      ]
    },
    {
      "cell_type": "markdown",
      "source": [
        "## **Data Abstraction & Encapsulation in Python**\n",
        "---\n",
        "* Data Abstraction is a process of hiding the implementation details and exposing only the necessary information to the user.\n",
        "*  This is done in order to simplify the complexity of the system.\n",
        "---\n",
        "* Encapsulation is a process of wrapping the data and the methods that manipulate the data into a single unit. \n",
        "* This unit is known as a class in Python. The data is not accessible to the outside world directly. \n",
        "* Instead, the data is accessed using the methods of the class.\n",
        "---"
      ],
      "metadata": {
        "id": "_cYROcYNj2tU"
      }
    },
    {
      "cell_type": "code",
      "source": [
        "from abc import ABC, abstractmethod   \n",
        "class Car(ABC):   \n",
        "    def mileage(self):   \n",
        "        pass  \n",
        "  \n",
        "class Tesla(Car):   \n",
        "    def mileage(self):   \n",
        "        print(\"The mileage is 30kmph\")   \n",
        "class Suzuki(Car):   \n",
        "    def mileage(self):   \n",
        "        print(\"The mileage is 25kmph \")   \n",
        "class Duster(Car):   \n",
        "     def mileage(self):   \n",
        "          print(\"The mileage is 24kmph \")   \n",
        "  \n",
        "class Renault(Car):   \n",
        "    def mileage(self):   \n",
        "            print(\"The mileage is 27kmph \")   \n",
        "          \n",
        " \n",
        "t= Tesla ()   \n",
        "t.mileage()   \n",
        "  \n",
        "r = Renault()   \n",
        "r.mileage()   \n",
        "  \n",
        "s = Suzuki()   \n",
        "s.mileage() \n",
        "  \n",
        "d = Duster()   \n",
        "d.mileage()  "
      ],
      "metadata": {
        "colab": {
          "base_uri": "https://localhost:8080/"
        },
        "id": "W9AjN9iZkm8J",
        "outputId": "af0b44cc-5334-4aac-f6f0-bc4666c32907"
      },
      "execution_count": null,
      "outputs": [
        {
          "output_type": "stream",
          "name": "stdout",
          "text": [
            "The mileage is 30kmph\n",
            "The mileage is 27kmph \n",
            "The mileage is 25kmph \n",
            "The mileage is 24kmph \n"
          ]
        }
      ]
    }
  ]
}