{
  "nbformat": 4,
  "nbformat_minor": 0,
  "metadata": {
    "colab": {
      "provenance": []
    },
    "kernelspec": {
      "name": "python3",
      "display_name": "Python 3"
    },
    "language_info": {
      "name": "python"
    }
  },
  "cells": [
    {
      "cell_type": "markdown",
      "source": [
        "## **Classes & Objects in Python**\n",
        "---\n",
        "* In object-oriented programming (OOP), a class is a blueprint for creating objects. An object is an instance of a class, which contains variables (attributes) and functions (methods) specific to that class. Python is an object-oriented language, which means it supports the creation of classes and objects."
      ],
      "metadata": {
        "id": "UiZNVrT5MJXB"
      }
    },
    {
      "cell_type": "markdown",
      "source": [
        "**Class in Python**\n",
        "\n",
        "---\n",
        "The class name should be capitalized according to the standard naming conventions. We can then define variables and functions within the class."
      ],
      "metadata": {
        "id": "bHfUB7P3M--c"
      }
    },
    {
      "cell_type": "code",
      "execution_count": null,
      "metadata": {
        "id": "uPFbt0SSvrDy"
      },
      "outputs": [],
      "source": [
        "class Person:\n",
        "    def __init__(self, name, age):\n",
        "        self.name = name\n",
        "        self.age = age\n",
        "        \n",
        "    def greeting(self):\n",
        "        print(\"Hello :)  Myself \" + self.name + \" and I am \" + str(self.age) + \" years old.\")\n",
        "\n",
        "# It's simply creation of class we need to create objects in order to access methods of class\n"
      ]
    },
    {
      "cell_type": "markdown",
      "source": [
        "#### **Objects in Python**\n",
        "\n",
        "---\n",
        "To create an instance of a class, we can simply call the class name and pass in any required arguments. For example, to create a Person object, here's the code"
      ],
      "metadata": {
        "id": "Jyho953TNnk9"
      }
    },
    {
      "cell_type": "code",
      "source": [
        "class Person:\n",
        "    def __init__(self, name, age):\n",
        "        self.name = name\n",
        "        self.age = age\n",
        "        \n",
        "    def greeting(self):\n",
        "        print(\"Hello :)  Myself \" + self.name + \" and I am \" + str(self.age) + \" years old.\")\n",
        "\n",
        "person1 = Person(\"Aditya\", 19)"
      ],
      "metadata": {
        "id": "G7eRm87nOAFs"
      },
      "execution_count": null,
      "outputs": []
    },
    {
      "cell_type": "markdown",
      "source": [
        "#### **Accessing Methods & Attributes**\n",
        "\n",
        "---\n",
        "Once we have created an object, we can access its attributes and methods using the dot   ' . ' notation. For example, to access the name attribute of person1, we can use the following code:"
      ],
      "metadata": {
        "id": "cjnu8eIGOaXE"
      }
    },
    {
      "cell_type": "code",
      "source": [
        "print(person1.name)\n",
        "person1.greeting()"
      ],
      "metadata": {
        "colab": {
          "base_uri": "https://localhost:8080/"
        },
        "id": "JsczlPs7OyTX",
        "outputId": "2789ad22-78bf-42ed-d099-543c1f5f1c2f"
      },
      "execution_count": null,
      "outputs": [
        {
          "output_type": "stream",
          "name": "stdout",
          "text": [
            "Aditya\n",
            "Hello :)  Myself Aditya and I am 19 years old.\n"
          ]
        }
      ]
    },
    {
      "cell_type": "markdown",
      "source": [
        "**Modifying Attributes & methods**\n",
        "\n",
        "---\n",
        "We can also modify the attributes and methods of an object. To modify an attribute, we can simply assign a new value to it. For example, to change the age of person1, follow below code : "
      ],
      "metadata": {
        "id": "vMRxzeFvO91Z"
      }
    },
    {
      "cell_type": "code",
      "source": [
        "person1.age = 20\n",
        "print(person1.age)\n",
        "print('-----------------')\n",
        "# But to modify the method, We need to modify it in class\n",
        "\n",
        "class Person:\n",
        "    def __init__(self, name, age):\n",
        "        self.name = name\n",
        "        self.age = age\n",
        "        \n",
        "    def greeting(self):\n",
        "        print(\"Hi, My name is \" + self.name + \" and I am \" + str(self.age) + \" years old.\")\n",
        "\n",
        "person2 = Person('Raj' , 20)\n",
        "person2.greeting()"
      ],
      "metadata": {
        "colab": {
          "base_uri": "https://localhost:8080/"
        },
        "id": "zNJFwYGbPRY7",
        "outputId": "d6d69705-1ea4-49de-f683-daad976da747"
      },
      "execution_count": null,
      "outputs": [
        {
          "output_type": "stream",
          "name": "stdout",
          "text": [
            "20\n",
            "-----------------\n",
            "Hi, My name is Raj and I am 20 years old.\n"
          ]
        }
      ]
    },
    {
      "cell_type": "markdown",
      "source": [
        "### **Now what is '__init __' & self ??**\n",
        "---\n",
        "* In Python, __init__ is a special method/dunder method that gets called when an object is created from a class. \n",
        "* The purpose of this method is to initialize the object's attributes with default or user-defined values. \n",
        "* The self parameter refers to the object itself, and it is used to access the object's attributes and methods.\n",
        "* The __init__ method takes in one required parameter (self) and any number of additional parameters. \n",
        "* These additional parameters are used to initialize the object's attributes. The self parameter is a reference to the object being created, and it is used to access the object's attributes and methods.\n"
      ],
      "metadata": {
        "id": "1LxOpDVjQHGk"
      }
    },
    {
      "cell_type": "code",
      "source": [
        "class Dog:\n",
        "    def __init__(self, name, breed, age):\n",
        "        self.name = name\n",
        "        self.breed = breed\n",
        "        self.age = age\n",
        "\n",
        "    def bark(self):\n",
        "        print(f\"{self.name} who's breed is ({self.breed}) is a good boi!\")\n",
        "\n",
        "dog1 = Dog(\"Bolt\", \"German-Shephard\", 3)\n",
        "dog2 = Dog(\"Chimps\", \"Poodle\", 5)\n",
        "\n",
        "dog1.bark()\n",
        "dog2.bark()\n"
      ],
      "metadata": {
        "colab": {
          "base_uri": "https://localhost:8080/"
        },
        "id": "RKlqPp5KRXg5",
        "outputId": "d2703355-a6eb-42dd-b8e5-0cde6680e088"
      },
      "execution_count": null,
      "outputs": [
        {
          "output_type": "stream",
          "name": "stdout",
          "text": [
            "Bolt who's breed is (German-Shephard) is a good boi!\n",
            "Chimps who's breed is (Poodle) is a good boi!\n"
          ]
        }
      ]
    },
    {
      "cell_type": "markdown",
      "source": [
        "## **Inheritance in Python**\n",
        "---\n",
        "In object-oriented programming (OOP), inheritance allows a new class to be based on an existing class. The new class is called the *subclass*, and the existing class is called the *superclass*. The *subclass* inherits attributes and methods from the *superclass*, which can then be modified or extended to create a new class with new functionality."
      ],
      "metadata": {
        "id": "WnLQ7x8xR1qr"
      }
    },
    {
      "cell_type": "markdown",
      "source": [
        "**Creating a superclass**\n",
        "\n",
        "---\n",
        "* Let's first create a superclass. In this example, we'll create a Person class with attributes for name and age, and a method for greeting."
      ],
      "metadata": {
        "id": "23eMoyqDS53M"
      }
    },
    {
      "cell_type": "code",
      "source": [
        "class Person:\n",
        "    def __init__(self, name, age):\n",
        "        self.name = name\n",
        "        self.age = age\n",
        "    \n",
        "    def greet(self):\n",
        "        print(f\"Hey, my name is {self.name} and my age is {self.age} \")\n"
      ],
      "metadata": {
        "id": "KICxZodQS1tW"
      },
      "execution_count": null,
      "outputs": []
    },
    {
      "cell_type": "markdown",
      "source": [
        "**Creating a subclass**\n",
        "\n",
        "---\n",
        "\n",
        "* Now let's create a subclass of Person called Student. In this example, we'll add a new attribute for the student's class and a new method for displaying the student's information."
      ],
      "metadata": {
        "id": "epNDweVbTZjS"
      }
    },
    {
      "cell_type": "code",
      "source": [
        "class Person:\n",
        "    def __init__(self, name, age):\n",
        "        self.name = name\n",
        "        self.age = age\n",
        "    \n",
        "    def greet(self):\n",
        "        print(f\"Hey, my name is {self.name} and my age is {self.age} \")\n",
        "\n",
        "class Student(Person):\n",
        "    def __init__(self, name, age, class_level):\n",
        "        super().__init__(name, age)\n",
        "        self.class_level = class_level\n",
        "    \n",
        "    def display_info(self):\n",
        "        print(f\"Name: {self.name}\")\n",
        "        print(f\"Age: {self.age}\")\n",
        "        print(f\"Class: {self.class_level}\")\n",
        "\n",
        "#Creating an instance of the Student class and call the greet and display_info methods.\n",
        "student1 = Student(\"Aman\", 17, \"11th \")\n",
        "student1.display_info()\n",
        "print('----------------')\n",
        "student2 = Student(\"Sanjana\", 16, \"10th \")\n",
        "student2.display_info()\n",
        "print()\n",
        "print('<============================>')\n",
        "print('We can also access greet() method because it has been inherited')\n",
        "print('------------------')\n",
        "student1.greet()\n",
        "print('------------------')\n",
        "student2.greet()"
      ],
      "metadata": {
        "colab": {
          "base_uri": "https://localhost:8080/"
        },
        "id": "iTneh4qKT0g3",
        "outputId": "30d87b8c-83b5-4c56-d44a-747f3aa54371"
      },
      "execution_count": null,
      "outputs": [
        {
          "output_type": "stream",
          "name": "stdout",
          "text": [
            "Name: Aman\n",
            "Age: 17\n",
            "Class: 11th \n",
            "----------------\n",
            "Name: Sanjana\n",
            "Age: 16\n",
            "Class: 10th \n",
            "\n",
            "<============================>\n",
            "We can also access greet() method because it has been inherited\n",
            "------------------\n",
            "Hey, my name is Aman and my age is 17 \n",
            "------------------\n",
            "Hey, my name is Sanjana and my age is 16 \n"
          ]
        }
      ]
    },
    {
      "cell_type": "markdown",
      "source": [
        "**Different type of access modifiers in Python**\n",
        "\n",
        "---\n",
        "Access modifiers are used to restrict access to class members in object-oriented programming. Python has three types of access modifiers:\n",
        "\n",
        "* Public: Accessible from anywhere inside or outside the class.\n",
        "* Protected: Accessible from within the class and its subclasses.\n",
        "* Private: Accessible only from within the class."
      ],
      "metadata": {
        "id": "4xPnmqzdV_nk"
      }
    },
    {
      "cell_type": "code",
      "source": [
        "# In Python, there is no way to define a class member as public. By default, all members are public.\n",
        "\n",
        "class MyClass:\n",
        "    def __init__(self):\n",
        "        self.public_var = \"I am a public variable\"\n",
        "        \n",
        "    def public_method(self):\n",
        "        print(\"I am a public method\")\n",
        "        \n",
        "obj = MyClass()\n",
        "print(obj.public_var)\n",
        "obj.public_method()\n"
      ],
      "metadata": {
        "colab": {
          "base_uri": "https://localhost:8080/"
        },
        "id": "tCXjZ391Xhjq",
        "outputId": "525238b5-39b0-4dc1-e7fb-f39f3a9e5ddf"
      },
      "execution_count": null,
      "outputs": [
        {
          "output_type": "stream",
          "name": "stdout",
          "text": [
            "I am a public variable\n",
            "I am a public method\n"
          ]
        }
      ]
    },
    {
      "cell_type": "code",
      "source": [
        "# To define a class member as protected in Python, prefix its name with a single underscore.\n",
        "\n",
        "class MyClass:\n",
        "    def __init__(self):\n",
        "        self._protected_var = \"I am a protected variable\"\n",
        "        \n",
        "    def _protected_method(self):\n",
        "        print(\"I am a protected method\")\n",
        "        \n",
        "class MySubClass(MyClass):\n",
        "    def __init__(self):\n",
        "        super().__init__()\n",
        "        \n",
        "    def test(self):\n",
        "        print(self._protected_var)\n",
        "        self._protected_method()\n",
        "        \n",
        "obj = MySubClass()\n",
        "obj.test()\n",
        "\n"
      ],
      "metadata": {
        "colab": {
          "base_uri": "https://localhost:8080/"
        },
        "id": "b4XxOrNKXuAf",
        "outputId": "afadf93d-45dd-4084-a34d-74142a8ae040"
      },
      "execution_count": null,
      "outputs": [
        {
          "output_type": "stream",
          "name": "stdout",
          "text": [
            "I am a protected variable\n",
            "I am a protected method\n"
          ]
        }
      ]
    },
    {
      "cell_type": "code",
      "source": [
        "# To define a class member as private in Python, prefix its name with two underscores.\n",
        "\n",
        "class MyClass:\n",
        "    def __init__(self):\n",
        "        self.__private_var = \"I am a private variable\"\n",
        "        \n",
        "    def __private_method(self):\n",
        "        print(\"I am a private method\")\n",
        "        \n",
        "class MySubClass(MyClass):\n",
        "    def __init__(self):\n",
        "        super().__init__()\n",
        "      \n",
        "    def test(self):\n",
        "      pass\n",
        "#        print(self.__private_var) # Will throw an AttributeError\n",
        " #       self.__private_method() # Will throw an AttributeError\n",
        "        \n",
        "obj = MySubClass()\n",
        "obj.test()\n",
        "\n"
      ],
      "metadata": {
        "id": "jS2ty99qX61c"
      },
      "execution_count": null,
      "outputs": []
    },
    {
      "cell_type": "markdown",
      "source": [
        "**Access Modifier & Inheritance**\n"
      ],
      "metadata": {
        "id": "k0TuIs36YW1C"
      }
    },
    {
      "cell_type": "code",
      "source": [
        "class Parent:\n",
        "    def __init__(self):\n",
        "        self.public_var = \"I am a public variable\"\n",
        "        self._protected_var = \"I am a protected variable\"\n",
        "        self.__private_var = \"I am a private variable\"\n",
        "        \n",
        "    def get_private_var(self):\n",
        "        return self.__private_var\n",
        "    \n",
        "class Child(Parent):\n",
        "    def __init__(self):\n",
        "        super().__init__()\n",
        "        \n",
        "    def show_variables(self):\n",
        "        print(\"Public variable: \", self.public_var)\n",
        "        print(\"Protected variable: \", self._protected_var)\n",
        "        print(\"Private variable: \", self.get_private_var())\n",
        "\n",
        "parent = Parent()\n",
        "print(\"Parent class:\")\n",
        "print(\"Public variable: \", parent.public_var)\n",
        "print(\"Protected variable: \", parent._protected_var)\n",
        "# This will result in an AttributeError\n",
        "# print(\"Private variable: \", parent.__private_var)\n",
        "\n",
        "child = Child()\n",
        "print(\"\\nChild class:\")\n",
        "child.show_variables()\n"
      ],
      "metadata": {
        "colab": {
          "base_uri": "https://localhost:8080/"
        },
        "id": "WZx8T2reYiaY",
        "outputId": "512fca60-2c9c-4fb3-871b-31daa9192b72"
      },
      "execution_count": null,
      "outputs": [
        {
          "output_type": "stream",
          "name": "stdout",
          "text": [
            "Parent class:\n",
            "Public variable:  I am a public variable\n",
            "Protected variable:  I am a protected variable\n",
            "\n",
            "Child class:\n",
            "Public variable:  I am a public variable\n",
            "Protected variable:  I am a protected variable\n",
            "Private variable:  I am a private variable\n"
          ]
        }
      ]
    },
    {
      "cell_type": "markdown",
      "source": [
        "#### **Types of Inheritance**\n",
        "---\n",
        "* Single Inheritance\n",
        "* Multiple Inheritance\n",
        "* Multilevel Inheritance \n",
        "* Hierarchical Inheritance"
      ],
      "metadata": {
        "id": "1qzo7wGeYqUB"
      }
    },
    {
      "cell_type": "markdown",
      "source": [
        "#### **Single Inheritance**\n",
        "---"
      ],
      "metadata": {
        "id": "C5OcxG0lacDc"
      }
    },
    {
      "cell_type": "code",
      "source": [
        "class Animal:\n",
        "    def __init__(self, name, species):\n",
        "        self.name = name\n",
        "        self.species = species\n",
        "\n",
        "    def describe(self):\n",
        "        print(\"I am a\", self.species, \"and my name is \", self.name)\n",
        "\n",
        "class Cat(Animal):\n",
        "    def meow(self):\n",
        "        print( self.name ,\"says Meow!\")\n",
        "\n",
        "felix = Cat(\"Selina\", \"cat\")\n",
        "felix.describe()  \n",
        "felix.meow()      \n"
      ],
      "metadata": {
        "colab": {
          "base_uri": "https://localhost:8080/"
        },
        "id": "Jfpd2sNUajhq",
        "outputId": "bb15c6dd-e677-49bd-b1d2-f9408310665c"
      },
      "execution_count": null,
      "outputs": [
        {
          "output_type": "stream",
          "name": "stdout",
          "text": [
            "I am a cat and my name is  Selina\n",
            "Selina says Meow!\n"
          ]
        }
      ]
    },
    {
      "cell_type": "markdown",
      "source": [
        "#### **Multiple Inheritance**\n",
        "---"
      ],
      "metadata": {
        "id": "I68KTt2ZbG65"
      }
    },
    {
      "cell_type": "code",
      "source": [
        "class Mammal:\n",
        "    def mammal_info(self):\n",
        "        print(\"Mammals can give birth to there young ones.\")\n",
        "\n",
        "class WingedAnimal:\n",
        "    def winged_animal_info(self):\n",
        "        print(\"Winged animals can fly.\")\n",
        "\n",
        "class Bat(Mammal, WingedAnimal):\n",
        "    def bat_infor(self):\n",
        "      print('I am a flying mammal')\n",
        "      \n",
        "\n",
        "# create an object of Bat class\n",
        "b1 = Bat()\n",
        "\n",
        "b1.mammal_info()\n",
        "b1.winged_animal_info()\n",
        "b1.bat_infor()"
      ],
      "metadata": {
        "colab": {
          "base_uri": "https://localhost:8080/"
        },
        "id": "PK3IgGBVbLE0",
        "outputId": "0cdbeb1d-97c2-4b0a-a1e9-d0b8161cbecf"
      },
      "execution_count": null,
      "outputs": [
        {
          "output_type": "stream",
          "name": "stdout",
          "text": [
            "Mammals can give birth to there young ones.\n",
            "Winged animals can fly.\n",
            "I am a flying mammal\n"
          ]
        }
      ]
    },
    {
      "cell_type": "markdown",
      "source": [
        "#### **Multi-level Inheritance**\n",
        "\n",
        "---"
      ],
      "metadata": {
        "id": "gHmJWoPMckZL"
      }
    },
    {
      "cell_type": "code",
      "source": [
        "class Family:\n",
        "    def show_family(self):\n",
        "        print(\"This is our family:\")\n",
        " \n",
        " \n",
        "# Father class inherited from Family\n",
        "class Father(Family):\n",
        "    fathername = \"\"\n",
        " \n",
        "    def show_father(self):\n",
        "        print(self.fathername)\n",
        " \n",
        " \n",
        "# Mother class inherited from Family\n",
        "class Mother(Family):\n",
        "    mothername = \"\"\n",
        " \n",
        "    def show_mother(self):\n",
        "        print(self.mothername)\n",
        " \n",
        " \n",
        "# Son class inherited from Father and Mother classes\n",
        "class Son(Father, Mother):\n",
        "    myname = \"\"\n",
        "\n",
        "    def show_myself(self):\n",
        "      print(self.myname)\n",
        "\n",
        "    def show_member(self):\n",
        "        print(\"Father :\", self.fathername)\n",
        "        print(\"Mother :\", self.mothername)\n",
        "        print('Son :', self.myname)\n",
        "\n",
        "    def show_rel(self):\n",
        "        print('I am son of ',self.fathername ,'and', self.mothername )\n",
        "        \n",
        "        \n",
        " \n",
        "s1 = Son()  # Object of Son class\n",
        "s1.fathername = \"Thomas\"\n",
        "s1.mothername = \"Martha\"\n",
        "s1.myname = \"Bruce\"\n",
        "print('-----------------')\n",
        "s1.show_family()\n",
        "s1.show_member()\n",
        "print('-------Myname & Identity------------')\n",
        "s1.show_myself()\n",
        "s1.show_rel()\n",
        "\n",
        " "
      ],
      "metadata": {
        "colab": {
          "base_uri": "https://localhost:8080/"
        },
        "id": "tbTw9M1LcqCJ",
        "outputId": "3a28a66a-ca97-474e-fd1d-0f4d69feef43"
      },
      "execution_count": null,
      "outputs": [
        {
          "output_type": "stream",
          "name": "stdout",
          "text": [
            "-----------------\n",
            "This is our family:\n",
            "Father : Thomas\n",
            "Mother : Martha\n",
            "Son : Bruce\n",
            "-------Myname & Identity------------\n",
            "Bruce\n",
            "I am son of  Thomas and Martha\n"
          ]
        }
      ]
    },
    {
      "cell_type": "markdown",
      "source": [
        "#### **Hierarchical Inheritance**\n",
        "---"
      ],
      "metadata": {
        "id": "kxY-vD9decGf"
      }
    },
    {
      "cell_type": "code",
      "source": [
        "class Details:\n",
        "    def __init__(self):\n",
        "        self.__id=\"<No Id>\"\n",
        "        self.__name=\"<No Name>\"\n",
        "        self.__gender=\"<No Gender>\"\n",
        "    def setData(self,id,name,gender):\n",
        "        self.__id=id\n",
        "        self.__name=name\n",
        "        self.__gender=gender\n",
        "    def showData(self):\n",
        "        print(\"Id: \",self.__id)\n",
        "        print(\"Name: \", self.__name)\n",
        "        print(\"Gender: \", self.__gender)\n",
        "\n",
        "class Employee(Details): \n",
        "    def __init__(self):\n",
        "        self.__company=\"<No Company>\"\n",
        "        self.__dept=\"<No Dept>\"\n",
        "    def setEmployee(self,id,name,gender,comp,dept):\n",
        "        self.setData(id,name,gender)\n",
        "        self.__company=comp\n",
        "        self.__dept=dept\n",
        "    def showEmployee(self):\n",
        "        self.showData()\n",
        "        print(\"Company: \", self.__company)\n",
        "        print(\"Department: \", self.__dept)\n",
        "\n",
        "class Doctor(Details): \n",
        "    def __init__(self):\n",
        "        self.__hospital=\"<No Hospital>\"\n",
        "        self.__dept=\"<No Dept>\"\n",
        "    def setEmployee(self,id,name,gender,hos,dept):\n",
        "        self.setData(id,name,gender)\n",
        "        self.__hospital=hos\n",
        "        self.__dept=dept\n",
        "    def showEmployee(self):\n",
        "        self.showData()\n",
        "        print(\"Hospital: \", self.__hospital)\n",
        "        print(\"Department: \", self.__dept)\n",
        "\n",
        "\n",
        "print(\"Employee Object\")\n",
        "e=Employee()\n",
        "e.setEmployee(101,\"Prem Sharma\",\"M\",\"IBM\",\"Designing\")\n",
        "e.showEmployee()\n",
        "print(\"\\nDoctor Object\")\n",
        "d = Doctor()\n",
        "d.setEmployee(201, \"Preeti Verma\", \"F\", \"AIIMS\", \"Surgeon\")\n",
        "d.showEmployee()"
      ],
      "metadata": {
        "colab": {
          "base_uri": "https://localhost:8080/"
        },
        "id": "ygupdg7OejDS",
        "outputId": "1e5a565f-efe8-4612-f321-0ee12f132536"
      },
      "execution_count": null,
      "outputs": [
        {
          "output_type": "stream",
          "name": "stdout",
          "text": [
            "Employee Object\n",
            "Id:  101\n",
            "Name:  Prem Sharma\n",
            "Gender:  M\n",
            "Company:  IBM\n",
            "Department:  Designing\n",
            "\n",
            "Doctor Object\n",
            "Id:  201\n",
            "Name:  Preeti Verma\n",
            "Gender:  F\n",
            "Hospital:  AIIMS\n",
            "Department:  Surgeon\n"
          ]
        }
      ]
    }
  ]
}